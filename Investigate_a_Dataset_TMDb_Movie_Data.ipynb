{
  "nbformat": 4,
  "nbformat_minor": 0,
  "metadata": {
    "colab": {
      "provenance": [],
      "collapsed_sections": []
    },
    "kernelspec": {
      "name": "python3",
      "display_name": "Python 3"
    },
    "language_info": {
      "name": "python"
    }
  },
  "cells": [
    {
      "cell_type": "code",
      "source": [
        "#%%shell\n",
        "#jupyter nbconvert --to html /content/Investigate_a_Dataset_TMDb_Movie_Data.ipynb"
      ],
      "metadata": {
        "id": "UARI1gN5XMDG"
      },
      "execution_count": null,
      "outputs": []
    },
    {
      "cell_type": "code",
      "source": [
        "#from google.colab import drive\n",
        "#drive.mount('/content/drive')"
      ],
      "metadata": {
        "id": "-XNBI0UxoH39"
      },
      "execution_count": null,
      "outputs": []
    },
    {
      "cell_type": "code",
      "execution_count": null,
      "metadata": {
        "id": "Be95AuW7o9mp"
      },
      "outputs": [],
      "source": [
        "import pandas as pd\n",
        "import numpy as np\n",
        "import matplotlib.pyplot as plt\n",
        "import seaborn as sns\n",
        "plt.rcParams[\"figure.figsize\"] = (10,10)"
      ]
    },
    {
      "cell_type": "markdown",
      "source": [
        "# **Investigate a Dataset - TMDb Movie Data**\n",
        "\n",
        "**Table of content** \n",
        "\n",
        "1. Introduction\n",
        "2. Questions\n",
        "3. Data Wrangling\n",
        "4. Exploratory Data Analysis \n",
        "5. Conclusion\n",
        "6. Limitation\n",
        "7. Reference\n",
        "\n"
      ],
      "metadata": {
        "id": "ntl76GTyNaBH"
      }
    },
    {
      "cell_type": "markdown",
      "source": [
        "# **Introduction** \n",
        "This data set contains information about 10,000 movies collected from The Movie Database (TMDb), including user ratings and revenue.\n",
        "\n",
        "\n",
        "\n",
        "\n",
        "\n",
        "*   Certain columns, like ‘cast’ and ‘genres’, contain multiple values separated by pipe (|) characters.\n",
        "*   There are some odd characters in the ‘cast’ column. Don’t worry about cleaning them. You can leave them as is\n",
        "*   The final two columns ending with “_adj” show the budget and revenue of the associated movie in terms of 2010 dollars, accounting for inflation over time.\n"
      ],
      "metadata": {
        "id": "yX1SDFr3Oa_N"
      }
    },
    {
      "cell_type": "markdown",
      "source": [
        "# **Questions**\n",
        "\n",
        "\n",
        "\n",
        "*   Which genres are most popular from year to year?\n",
        "*   Which movies are the most profitable?\n",
        "\n",
        "*  What is the percentage of all genres?\n",
        "*   Which actors acted the most movies from 1960 to 2015?\n",
        "*  Which movies have the highest Average Votes?\n",
        "*  Which movies have the highest Popularity?\n",
        "* Which directors have the highest popularity from year to year?\n",
        "*   Which director have the highest popularity?\n",
        "*  Which directors are the most profitable?\n",
        "\n"
      ],
      "metadata": {
        "id": "KBzlf2POP65w"
      }
    },
    {
      "cell_type": "code",
      "source": [
        "path = 'tmdb-movies.csv'"
      ],
      "metadata": {
        "id": "VIK87AoJpWHR"
      },
      "execution_count": null,
      "outputs": []
    },
    {
      "cell_type": "code",
      "source": [
        "df_tmdb = pd.read_csv(path, index_col='id')\n",
        "# convert release date to datetime\n",
        "df_tmdb['release_date'] = pd.to_datetime(df_tmdb['release_date'])\n",
        "df_tmdb.head()"
      ],
      "metadata": {
        "colab": {
          "base_uri": "https://localhost:8080/",
          "height": 701
        },
        "id": "g19zrxwSpfdm",
        "outputId": "bf7ff7c0-7b53-4090-98ca-d43fd6584c78"
      },
      "execution_count": null,
      "outputs": [
        {
          "output_type": "execute_result",
          "data": {
            "text/plain": [
              "          imdb_id  popularity     budget     revenue  \\\n",
              "id                                                     \n",
              "135397  tt0369610   32.985763  150000000  1513528810   \n",
              "76341   tt1392190   28.419936  150000000   378436354   \n",
              "262500  tt2908446   13.112507  110000000   295238201   \n",
              "140607  tt2488496   11.173104  200000000  2068178225   \n",
              "168259  tt2820852    9.335014  190000000  1506249360   \n",
              "\n",
              "                      original_title  \\\n",
              "id                                     \n",
              "135397                Jurassic World   \n",
              "76341             Mad Max: Fury Road   \n",
              "262500                     Insurgent   \n",
              "140607  Star Wars: The Force Awakens   \n",
              "168259                     Furious 7   \n",
              "\n",
              "                                                     cast  \\\n",
              "id                                                          \n",
              "135397  Chris Pratt|Bryce Dallas Howard|Irrfan Khan|Vi...   \n",
              "76341   Tom Hardy|Charlize Theron|Hugh Keays-Byrne|Nic...   \n",
              "262500  Shailene Woodley|Theo James|Kate Winslet|Ansel...   \n",
              "140607  Harrison Ford|Mark Hamill|Carrie Fisher|Adam D...   \n",
              "168259  Vin Diesel|Paul Walker|Jason Statham|Michelle ...   \n",
              "\n",
              "                                                 homepage          director  \\\n",
              "id                                                                            \n",
              "135397                      http://www.jurassicworld.com/   Colin Trevorrow   \n",
              "76341                         http://www.madmaxmovie.com/     George Miller   \n",
              "262500     http://www.thedivergentseries.movie/#insurgent  Robert Schwentke   \n",
              "140607  http://www.starwars.com/films/star-wars-episod...       J.J. Abrams   \n",
              "168259                           http://www.furious7.com/         James Wan   \n",
              "\n",
              "                              tagline  \\\n",
              "id                                      \n",
              "135397              The park is open.   \n",
              "76341              What a Lovely Day.   \n",
              "262500     One Choice Can Destroy You   \n",
              "140607  Every generation has a story.   \n",
              "168259            Vengeance Hits Home   \n",
              "\n",
              "                                                 keywords  \\\n",
              "id                                                          \n",
              "135397  monster|dna|tyrannosaurus rex|velociraptor|island   \n",
              "76341    future|chase|post-apocalyptic|dystopia|australia   \n",
              "262500  based on novel|revolution|dystopia|sequel|dyst...   \n",
              "140607              android|spaceship|jedi|space opera|3d   \n",
              "168259                car race|speed|revenge|suspense|car   \n",
              "\n",
              "                                                 overview  runtime  \\\n",
              "id                                                                   \n",
              "135397  Twenty-two years after the events of Jurassic ...      124   \n",
              "76341   An apocalyptic story set in the furthest reach...      120   \n",
              "262500  Beatrice Prior must confront her inner demons ...      119   \n",
              "140607  Thirty years after defeating the Galactic Empi...      136   \n",
              "168259  Deckard Shaw seeks revenge against Dominic Tor...      137   \n",
              "\n",
              "                                           genres  \\\n",
              "id                                                  \n",
              "135397  Action|Adventure|Science Fiction|Thriller   \n",
              "76341   Action|Adventure|Science Fiction|Thriller   \n",
              "262500         Adventure|Science Fiction|Thriller   \n",
              "140607   Action|Adventure|Science Fiction|Fantasy   \n",
              "168259                      Action|Crime|Thriller   \n",
              "\n",
              "                                     production_companies release_date  \\\n",
              "id                                                                       \n",
              "135397  Universal Studios|Amblin Entertainment|Legenda...   2015-06-09   \n",
              "76341   Village Roadshow Pictures|Kennedy Miller Produ...   2015-05-13   \n",
              "262500  Summit Entertainment|Mandeville Films|Red Wago...   2015-03-18   \n",
              "140607          Lucasfilm|Truenorth Productions|Bad Robot   2015-12-15   \n",
              "168259  Universal Pictures|Original Film|Media Rights ...   2015-04-01   \n",
              "\n",
              "        vote_count  vote_average  release_year    budget_adj   revenue_adj  \n",
              "id                                                                          \n",
              "135397        5562           6.5          2015  1.379999e+08  1.392446e+09  \n",
              "76341         6185           7.1          2015  1.379999e+08  3.481613e+08  \n",
              "262500        2480           6.3          2015  1.012000e+08  2.716190e+08  \n",
              "140607        5292           7.5          2015  1.839999e+08  1.902723e+09  \n",
              "168259        2947           7.3          2015  1.747999e+08  1.385749e+09  "
            ],
            "text/html": [
              "\n",
              "  <div id=\"df-4ca3faf5-6882-4853-80f1-34b07aaa4f3c\">\n",
              "    <div class=\"colab-df-container\">\n",
              "      <div>\n",
              "<style scoped>\n",
              "    .dataframe tbody tr th:only-of-type {\n",
              "        vertical-align: middle;\n",
              "    }\n",
              "\n",
              "    .dataframe tbody tr th {\n",
              "        vertical-align: top;\n",
              "    }\n",
              "\n",
              "    .dataframe thead th {\n",
              "        text-align: right;\n",
              "    }\n",
              "</style>\n",
              "<table border=\"1\" class=\"dataframe\">\n",
              "  <thead>\n",
              "    <tr style=\"text-align: right;\">\n",
              "      <th></th>\n",
              "      <th>imdb_id</th>\n",
              "      <th>popularity</th>\n",
              "      <th>budget</th>\n",
              "      <th>revenue</th>\n",
              "      <th>original_title</th>\n",
              "      <th>cast</th>\n",
              "      <th>homepage</th>\n",
              "      <th>director</th>\n",
              "      <th>tagline</th>\n",
              "      <th>keywords</th>\n",
              "      <th>overview</th>\n",
              "      <th>runtime</th>\n",
              "      <th>genres</th>\n",
              "      <th>production_companies</th>\n",
              "      <th>release_date</th>\n",
              "      <th>vote_count</th>\n",
              "      <th>vote_average</th>\n",
              "      <th>release_year</th>\n",
              "      <th>budget_adj</th>\n",
              "      <th>revenue_adj</th>\n",
              "    </tr>\n",
              "    <tr>\n",
              "      <th>id</th>\n",
              "      <th></th>\n",
              "      <th></th>\n",
              "      <th></th>\n",
              "      <th></th>\n",
              "      <th></th>\n",
              "      <th></th>\n",
              "      <th></th>\n",
              "      <th></th>\n",
              "      <th></th>\n",
              "      <th></th>\n",
              "      <th></th>\n",
              "      <th></th>\n",
              "      <th></th>\n",
              "      <th></th>\n",
              "      <th></th>\n",
              "      <th></th>\n",
              "      <th></th>\n",
              "      <th></th>\n",
              "      <th></th>\n",
              "      <th></th>\n",
              "    </tr>\n",
              "  </thead>\n",
              "  <tbody>\n",
              "    <tr>\n",
              "      <th>135397</th>\n",
              "      <td>tt0369610</td>\n",
              "      <td>32.985763</td>\n",
              "      <td>150000000</td>\n",
              "      <td>1513528810</td>\n",
              "      <td>Jurassic World</td>\n",
              "      <td>Chris Pratt|Bryce Dallas Howard|Irrfan Khan|Vi...</td>\n",
              "      <td>http://www.jurassicworld.com/</td>\n",
              "      <td>Colin Trevorrow</td>\n",
              "      <td>The park is open.</td>\n",
              "      <td>monster|dna|tyrannosaurus rex|velociraptor|island</td>\n",
              "      <td>Twenty-two years after the events of Jurassic ...</td>\n",
              "      <td>124</td>\n",
              "      <td>Action|Adventure|Science Fiction|Thriller</td>\n",
              "      <td>Universal Studios|Amblin Entertainment|Legenda...</td>\n",
              "      <td>2015-06-09</td>\n",
              "      <td>5562</td>\n",
              "      <td>6.5</td>\n",
              "      <td>2015</td>\n",
              "      <td>1.379999e+08</td>\n",
              "      <td>1.392446e+09</td>\n",
              "    </tr>\n",
              "    <tr>\n",
              "      <th>76341</th>\n",
              "      <td>tt1392190</td>\n",
              "      <td>28.419936</td>\n",
              "      <td>150000000</td>\n",
              "      <td>378436354</td>\n",
              "      <td>Mad Max: Fury Road</td>\n",
              "      <td>Tom Hardy|Charlize Theron|Hugh Keays-Byrne|Nic...</td>\n",
              "      <td>http://www.madmaxmovie.com/</td>\n",
              "      <td>George Miller</td>\n",
              "      <td>What a Lovely Day.</td>\n",
              "      <td>future|chase|post-apocalyptic|dystopia|australia</td>\n",
              "      <td>An apocalyptic story set in the furthest reach...</td>\n",
              "      <td>120</td>\n",
              "      <td>Action|Adventure|Science Fiction|Thriller</td>\n",
              "      <td>Village Roadshow Pictures|Kennedy Miller Produ...</td>\n",
              "      <td>2015-05-13</td>\n",
              "      <td>6185</td>\n",
              "      <td>7.1</td>\n",
              "      <td>2015</td>\n",
              "      <td>1.379999e+08</td>\n",
              "      <td>3.481613e+08</td>\n",
              "    </tr>\n",
              "    <tr>\n",
              "      <th>262500</th>\n",
              "      <td>tt2908446</td>\n",
              "      <td>13.112507</td>\n",
              "      <td>110000000</td>\n",
              "      <td>295238201</td>\n",
              "      <td>Insurgent</td>\n",
              "      <td>Shailene Woodley|Theo James|Kate Winslet|Ansel...</td>\n",
              "      <td>http://www.thedivergentseries.movie/#insurgent</td>\n",
              "      <td>Robert Schwentke</td>\n",
              "      <td>One Choice Can Destroy You</td>\n",
              "      <td>based on novel|revolution|dystopia|sequel|dyst...</td>\n",
              "      <td>Beatrice Prior must confront her inner demons ...</td>\n",
              "      <td>119</td>\n",
              "      <td>Adventure|Science Fiction|Thriller</td>\n",
              "      <td>Summit Entertainment|Mandeville Films|Red Wago...</td>\n",
              "      <td>2015-03-18</td>\n",
              "      <td>2480</td>\n",
              "      <td>6.3</td>\n",
              "      <td>2015</td>\n",
              "      <td>1.012000e+08</td>\n",
              "      <td>2.716190e+08</td>\n",
              "    </tr>\n",
              "    <tr>\n",
              "      <th>140607</th>\n",
              "      <td>tt2488496</td>\n",
              "      <td>11.173104</td>\n",
              "      <td>200000000</td>\n",
              "      <td>2068178225</td>\n",
              "      <td>Star Wars: The Force Awakens</td>\n",
              "      <td>Harrison Ford|Mark Hamill|Carrie Fisher|Adam D...</td>\n",
              "      <td>http://www.starwars.com/films/star-wars-episod...</td>\n",
              "      <td>J.J. Abrams</td>\n",
              "      <td>Every generation has a story.</td>\n",
              "      <td>android|spaceship|jedi|space opera|3d</td>\n",
              "      <td>Thirty years after defeating the Galactic Empi...</td>\n",
              "      <td>136</td>\n",
              "      <td>Action|Adventure|Science Fiction|Fantasy</td>\n",
              "      <td>Lucasfilm|Truenorth Productions|Bad Robot</td>\n",
              "      <td>2015-12-15</td>\n",
              "      <td>5292</td>\n",
              "      <td>7.5</td>\n",
              "      <td>2015</td>\n",
              "      <td>1.839999e+08</td>\n",
              "      <td>1.902723e+09</td>\n",
              "    </tr>\n",
              "    <tr>\n",
              "      <th>168259</th>\n",
              "      <td>tt2820852</td>\n",
              "      <td>9.335014</td>\n",
              "      <td>190000000</td>\n",
              "      <td>1506249360</td>\n",
              "      <td>Furious 7</td>\n",
              "      <td>Vin Diesel|Paul Walker|Jason Statham|Michelle ...</td>\n",
              "      <td>http://www.furious7.com/</td>\n",
              "      <td>James Wan</td>\n",
              "      <td>Vengeance Hits Home</td>\n",
              "      <td>car race|speed|revenge|suspense|car</td>\n",
              "      <td>Deckard Shaw seeks revenge against Dominic Tor...</td>\n",
              "      <td>137</td>\n",
              "      <td>Action|Crime|Thriller</td>\n",
              "      <td>Universal Pictures|Original Film|Media Rights ...</td>\n",
              "      <td>2015-04-01</td>\n",
              "      <td>2947</td>\n",
              "      <td>7.3</td>\n",
              "      <td>2015</td>\n",
              "      <td>1.747999e+08</td>\n",
              "      <td>1.385749e+09</td>\n",
              "    </tr>\n",
              "  </tbody>\n",
              "</table>\n",
              "</div>\n",
              "      <button class=\"colab-df-convert\" onclick=\"convertToInteractive('df-4ca3faf5-6882-4853-80f1-34b07aaa4f3c')\"\n",
              "              title=\"Convert this dataframe to an interactive table.\"\n",
              "              style=\"display:none;\">\n",
              "        \n",
              "  <svg xmlns=\"http://www.w3.org/2000/svg\" height=\"24px\"viewBox=\"0 0 24 24\"\n",
              "       width=\"24px\">\n",
              "    <path d=\"M0 0h24v24H0V0z\" fill=\"none\"/>\n",
              "    <path d=\"M18.56 5.44l.94 2.06.94-2.06 2.06-.94-2.06-.94-.94-2.06-.94 2.06-2.06.94zm-11 1L8.5 8.5l.94-2.06 2.06-.94-2.06-.94L8.5 2.5l-.94 2.06-2.06.94zm10 10l.94 2.06.94-2.06 2.06-.94-2.06-.94-.94-2.06-.94 2.06-2.06.94z\"/><path d=\"M17.41 7.96l-1.37-1.37c-.4-.4-.92-.59-1.43-.59-.52 0-1.04.2-1.43.59L10.3 9.45l-7.72 7.72c-.78.78-.78 2.05 0 2.83L4 21.41c.39.39.9.59 1.41.59.51 0 1.02-.2 1.41-.59l7.78-7.78 2.81-2.81c.8-.78.8-2.07 0-2.86zM5.41 20L4 18.59l7.72-7.72 1.47 1.35L5.41 20z\"/>\n",
              "  </svg>\n",
              "      </button>\n",
              "      \n",
              "  <style>\n",
              "    .colab-df-container {\n",
              "      display:flex;\n",
              "      flex-wrap:wrap;\n",
              "      gap: 12px;\n",
              "    }\n",
              "\n",
              "    .colab-df-convert {\n",
              "      background-color: #E8F0FE;\n",
              "      border: none;\n",
              "      border-radius: 50%;\n",
              "      cursor: pointer;\n",
              "      display: none;\n",
              "      fill: #1967D2;\n",
              "      height: 32px;\n",
              "      padding: 0 0 0 0;\n",
              "      width: 32px;\n",
              "    }\n",
              "\n",
              "    .colab-df-convert:hover {\n",
              "      background-color: #E2EBFA;\n",
              "      box-shadow: 0px 1px 2px rgba(60, 64, 67, 0.3), 0px 1px 3px 1px rgba(60, 64, 67, 0.15);\n",
              "      fill: #174EA6;\n",
              "    }\n",
              "\n",
              "    [theme=dark] .colab-df-convert {\n",
              "      background-color: #3B4455;\n",
              "      fill: #D2E3FC;\n",
              "    }\n",
              "\n",
              "    [theme=dark] .colab-df-convert:hover {\n",
              "      background-color: #434B5C;\n",
              "      box-shadow: 0px 1px 3px 1px rgba(0, 0, 0, 0.15);\n",
              "      filter: drop-shadow(0px 1px 2px rgba(0, 0, 0, 0.3));\n",
              "      fill: #FFFFFF;\n",
              "    }\n",
              "  </style>\n",
              "\n",
              "      <script>\n",
              "        const buttonEl =\n",
              "          document.querySelector('#df-4ca3faf5-6882-4853-80f1-34b07aaa4f3c button.colab-df-convert');\n",
              "        buttonEl.style.display =\n",
              "          google.colab.kernel.accessAllowed ? 'block' : 'none';\n",
              "\n",
              "        async function convertToInteractive(key) {\n",
              "          const element = document.querySelector('#df-4ca3faf5-6882-4853-80f1-34b07aaa4f3c');\n",
              "          const dataTable =\n",
              "            await google.colab.kernel.invokeFunction('convertToInteractive',\n",
              "                                                     [key], {});\n",
              "          if (!dataTable) return;\n",
              "\n",
              "          const docLinkHtml = 'Like what you see? Visit the ' +\n",
              "            '<a target=\"_blank\" href=https://colab.research.google.com/notebooks/data_table.ipynb>data table notebook</a>'\n",
              "            + ' to learn more about interactive tables.';\n",
              "          element.innerHTML = '';\n",
              "          dataTable['output_type'] = 'display_data';\n",
              "          await google.colab.output.renderOutput(dataTable, element);\n",
              "          const docLink = document.createElement('div');\n",
              "          docLink.innerHTML = docLinkHtml;\n",
              "          element.appendChild(docLink);\n",
              "        }\n",
              "      </script>\n",
              "    </div>\n",
              "  </div>\n",
              "  "
            ]
          },
          "metadata": {},
          "execution_count": 5
        }
      ]
    },
    {
      "cell_type": "markdown",
      "source": [
        "# **Data Wrangling**\n",
        "\n",
        "\n",
        "\n",
        "*   check and remove missing value \n",
        "*   check and remove duplicate values\n",
        "*   convert to appropriate  datatype\n",
        "\n"
      ],
      "metadata": {
        "id": "q7BlRmCqbsks"
      }
    },
    {
      "cell_type": "code",
      "source": [
        "df_tmdb.info()"
      ],
      "metadata": {
        "id": "vbuga9CcpoGc",
        "colab": {
          "base_uri": "https://localhost:8080/"
        },
        "outputId": "0a2a8cfc-0daf-49d3-8151-3c4f2119cff8"
      },
      "execution_count": null,
      "outputs": [
        {
          "output_type": "stream",
          "name": "stdout",
          "text": [
            "<class 'pandas.core.frame.DataFrame'>\n",
            "Int64Index: 10866 entries, 135397 to 22293\n",
            "Data columns (total 20 columns):\n",
            " #   Column                Non-Null Count  Dtype         \n",
            "---  ------                --------------  -----         \n",
            " 0   imdb_id               10856 non-null  object        \n",
            " 1   popularity            10866 non-null  float64       \n",
            " 2   budget                10866 non-null  int64         \n",
            " 3   revenue               10866 non-null  int64         \n",
            " 4   original_title        10866 non-null  object        \n",
            " 5   cast                  10790 non-null  object        \n",
            " 6   homepage              2936 non-null   object        \n",
            " 7   director              10822 non-null  object        \n",
            " 8   tagline               8042 non-null   object        \n",
            " 9   keywords              9373 non-null   object        \n",
            " 10  overview              10862 non-null  object        \n",
            " 11  runtime               10866 non-null  int64         \n",
            " 12  genres                10843 non-null  object        \n",
            " 13  production_companies  9836 non-null   object        \n",
            " 14  release_date          10866 non-null  datetime64[ns]\n",
            " 15  vote_count            10866 non-null  int64         \n",
            " 16  vote_average          10866 non-null  float64       \n",
            " 17  release_year          10866 non-null  int64         \n",
            " 18  budget_adj            10866 non-null  float64       \n",
            " 19  revenue_adj           10866 non-null  float64       \n",
            "dtypes: datetime64[ns](1), float64(4), int64(5), object(10)\n",
            "memory usage: 1.7+ MB\n"
          ]
        }
      ]
    },
    {
      "cell_type": "code",
      "source": [
        "# Check for missing values\n",
        "df_tmdb.isna().sum()"
      ],
      "metadata": {
        "colab": {
          "base_uri": "https://localhost:8080/"
        },
        "id": "SDCMa5Y5Rjhr",
        "outputId": "2cc6a0b9-644b-4d3d-cb4a-6ff298f8649d"
      },
      "execution_count": null,
      "outputs": [
        {
          "output_type": "execute_result",
          "data": {
            "text/plain": [
              "imdb_id                   10\n",
              "popularity                 0\n",
              "budget                     0\n",
              "revenue                    0\n",
              "original_title             0\n",
              "cast                      76\n",
              "homepage                7930\n",
              "director                  44\n",
              "tagline                 2824\n",
              "keywords                1493\n",
              "overview                   4\n",
              "runtime                    0\n",
              "genres                    23\n",
              "production_companies    1030\n",
              "release_date               0\n",
              "vote_count                 0\n",
              "vote_average               0\n",
              "release_year               0\n",
              "budget_adj                 0\n",
              "revenue_adj                0\n",
              "dtype: int64"
            ]
          },
          "metadata": {},
          "execution_count": 7
        }
      ]
    },
    {
      "cell_type": "markdown",
      "source": [
        "The following columns will be removed from the analysis\n",
        "\n",
        "\n",
        "*   Homepage\n",
        "*   Tagline\n",
        "*   Keywords\n",
        "*   Overview\n",
        "*   Production_companies\n",
        "\n"
      ],
      "metadata": {
        "id": "Wu1djNIsR0gu"
      }
    },
    {
      "cell_type": "code",
      "source": [
        "# Drop columns with >1000 null values\n",
        "df_tmdb.drop(columns = ['imdb_id','homepage','tagline','overview','keywords', 'production_companies'],inplace=True,axis = 1)\n",
        "# Drop null rows\n",
        "df_tmdb.dropna(inplace=True)"
      ],
      "metadata": {
        "id": "W1ap5KMqW1Qm"
      },
      "execution_count": null,
      "outputs": []
    },
    {
      "cell_type": "code",
      "source": [
        "# Check for duplicate rows\n",
        "df_tmdb.duplicated().sum()\n",
        "# Remove duplicate rows\n",
        "df_tmdb.drop_duplicates(inplace=True)"
      ],
      "metadata": {
        "id": "QmhnE3qOXh5l"
      },
      "execution_count": null,
      "outputs": []
    },
    {
      "cell_type": "code",
      "source": [
        "# 10,731 examples with 14 columns will be used in the analysis\n",
        "df_tmdb.shape"
      ],
      "metadata": {
        "colab": {
          "base_uri": "https://localhost:8080/"
        },
        "id": "7z7mq-6gQSwk",
        "outputId": "0594d4dc-6c73-48c7-adc4-4149da5efa12"
      },
      "execution_count": null,
      "outputs": [
        {
          "output_type": "execute_result",
          "data": {
            "text/plain": [
              "(10731, 14)"
            ]
          },
          "metadata": {},
          "execution_count": 10
        }
      ]
    },
    {
      "cell_type": "markdown",
      "source": [
        "**After  removing missing and duplicate values, 10731 examples with 14attributes(columns) will be used for the analysis.**"
      ],
      "metadata": {
        "id": "VC_FywYylUtS"
      }
    },
    {
      "cell_type": "markdown",
      "source": [
        "# **Which genres are most popular from year to year?**"
      ],
      "metadata": {
        "id": "J8eSUuraZuiZ"
      }
    },
    {
      "cell_type": "code",
      "source": [
        "df_tmdb['genres'].nunique()\n",
        "df_tmdb['genres'].unique()"
      ],
      "metadata": {
        "colab": {
          "base_uri": "https://localhost:8080/"
        },
        "id": "8Y_agopxYRS5",
        "outputId": "4b87cd3a-07bf-4074-ca42-25ca0df08a71"
      },
      "execution_count": null,
      "outputs": [
        {
          "output_type": "execute_result",
          "data": {
            "text/plain": [
              "array(['Action|Adventure|Science Fiction|Thriller',\n",
              "       'Adventure|Science Fiction|Thriller',\n",
              "       'Action|Adventure|Science Fiction|Fantasy', ...,\n",
              "       'Adventure|Drama|Action|Family|Foreign',\n",
              "       'Comedy|Family|Mystery|Romance',\n",
              "       'Mystery|Science Fiction|Thriller|Drama'], dtype=object)"
            ]
          },
          "metadata": {},
          "execution_count": 11
        }
      ]
    },
    {
      "cell_type": "markdown",
      "source": [
        "There are 2022 unique combinationations of genres out of the following possible genres: ['Action',\n",
        " 'Adventure',\n",
        " 'Science Fiction',\n",
        " 'Thriller',\n",
        " 'Fantasy',\n",
        " 'Crime',\n",
        " 'Western',\n",
        " 'Drama',\n",
        " 'Family',\n",
        " 'Animation',\n",
        " 'Comedy',\n",
        " 'Mystery',\n",
        " 'Romance',\n",
        " 'War',\n",
        " 'History',\n",
        " 'Music',\n",
        " 'Horror',\n",
        " 'Documentary',\n",
        " 'TV Movie',\n",
        " 'Foreign']"
      ],
      "metadata": {
        "id": "9KHweCWgYV_z"
      }
    },
    {
      "cell_type": "code",
      "source": [
        "df_tmdb_copy = df_tmdb.copy()"
      ],
      "metadata": {
        "id": "3CyJEIO9ZyC6"
      },
      "execution_count": null,
      "outputs": []
    },
    {
      "cell_type": "code",
      "source": [
        "def seperator(x):\n",
        "   return x.split('|')"
      ],
      "metadata": {
        "id": "DxtlE5eFatjx"
      },
      "execution_count": null,
      "outputs": []
    },
    {
      "cell_type": "code",
      "source": [
        "df_tmdb_copy['genres']=df_tmdb_copy ['genres'].apply(seperator)\n",
        "df_tmdb_copy['genres'][:3]"
      ],
      "metadata": {
        "colab": {
          "base_uri": "https://localhost:8080/"
        },
        "id": "KveA3B4kgFO-",
        "outputId": "9d97a2be-bb76-4d08-d8ec-fb01f4e4e326"
      },
      "execution_count": null,
      "outputs": [
        {
          "output_type": "execute_result",
          "data": {
            "text/plain": [
              "id\n",
              "135397    [Action, Adventure, Science Fiction, Thriller]\n",
              "76341     [Action, Adventure, Science Fiction, Thriller]\n",
              "262500            [Adventure, Science Fiction, Thriller]\n",
              "Name: genres, dtype: object"
            ]
          },
          "metadata": {},
          "execution_count": 14
        }
      ]
    },
    {
      "cell_type": "code",
      "source": [
        "# Get genre with the highest popularity per year\n",
        "df_genre = df_tmdb_copy.explode('genres')[['popularity', 'genres','release_year']]\n",
        "df_genre_grouped = df_genre.groupby(['release_year', 'genres']).mean()\n",
        "popular_yearly = df_genre_grouped.groupby(level='release_year')['popularity'].nlargest(1).to_frame()\n",
        "popular_yearly.reset_index(level=2, inplace=True)\n",
        "popular_yearly[41:]#.head()"
      ],
      "metadata": {
        "colab": {
          "base_uri": "https://localhost:8080/",
          "height": 551
        },
        "id": "m7n7rw_riP8v",
        "outputId": "dc60d3aa-7323-424c-d565-4d336ce7a45f"
      },
      "execution_count": null,
      "outputs": [
        {
          "output_type": "execute_result",
          "data": {
            "text/plain": [
              "                              genres  popularity\n",
              "release_year release_year                       \n",
              "2001         2001            Fantasy    1.565260\n",
              "2002         2002            Fantasy    1.430465\n",
              "2003         2003            Fantasy    1.747524\n",
              "2004         2004            Fantasy    1.320568\n",
              "2005         2005            Fantasy    1.146827\n",
              "2006         2006            Fantasy    1.023134\n",
              "2007         2007            Fantasy    0.957349\n",
              "2008         2008          Adventure    1.008385\n",
              "2009         2009          Adventure    1.153656\n",
              "2010         2010          Adventure    1.378913\n",
              "2011         2011            Western    1.175800\n",
              "2012         2012            Western    1.732778\n",
              "2013         2013          Adventure    1.294491\n",
              "2014         2014          Adventure    2.430526\n",
              "2015         2015          Adventure    3.283786"
            ],
            "text/html": [
              "\n",
              "  <div id=\"df-89fbc549-b904-4f29-81b6-709a62aad289\">\n",
              "    <div class=\"colab-df-container\">\n",
              "      <div>\n",
              "<style scoped>\n",
              "    .dataframe tbody tr th:only-of-type {\n",
              "        vertical-align: middle;\n",
              "    }\n",
              "\n",
              "    .dataframe tbody tr th {\n",
              "        vertical-align: top;\n",
              "    }\n",
              "\n",
              "    .dataframe thead th {\n",
              "        text-align: right;\n",
              "    }\n",
              "</style>\n",
              "<table border=\"1\" class=\"dataframe\">\n",
              "  <thead>\n",
              "    <tr style=\"text-align: right;\">\n",
              "      <th></th>\n",
              "      <th></th>\n",
              "      <th>genres</th>\n",
              "      <th>popularity</th>\n",
              "    </tr>\n",
              "    <tr>\n",
              "      <th>release_year</th>\n",
              "      <th>release_year</th>\n",
              "      <th></th>\n",
              "      <th></th>\n",
              "    </tr>\n",
              "  </thead>\n",
              "  <tbody>\n",
              "    <tr>\n",
              "      <th>2001</th>\n",
              "      <th>2001</th>\n",
              "      <td>Fantasy</td>\n",
              "      <td>1.565260</td>\n",
              "    </tr>\n",
              "    <tr>\n",
              "      <th>2002</th>\n",
              "      <th>2002</th>\n",
              "      <td>Fantasy</td>\n",
              "      <td>1.430465</td>\n",
              "    </tr>\n",
              "    <tr>\n",
              "      <th>2003</th>\n",
              "      <th>2003</th>\n",
              "      <td>Fantasy</td>\n",
              "      <td>1.747524</td>\n",
              "    </tr>\n",
              "    <tr>\n",
              "      <th>2004</th>\n",
              "      <th>2004</th>\n",
              "      <td>Fantasy</td>\n",
              "      <td>1.320568</td>\n",
              "    </tr>\n",
              "    <tr>\n",
              "      <th>2005</th>\n",
              "      <th>2005</th>\n",
              "      <td>Fantasy</td>\n",
              "      <td>1.146827</td>\n",
              "    </tr>\n",
              "    <tr>\n",
              "      <th>2006</th>\n",
              "      <th>2006</th>\n",
              "      <td>Fantasy</td>\n",
              "      <td>1.023134</td>\n",
              "    </tr>\n",
              "    <tr>\n",
              "      <th>2007</th>\n",
              "      <th>2007</th>\n",
              "      <td>Fantasy</td>\n",
              "      <td>0.957349</td>\n",
              "    </tr>\n",
              "    <tr>\n",
              "      <th>2008</th>\n",
              "      <th>2008</th>\n",
              "      <td>Adventure</td>\n",
              "      <td>1.008385</td>\n",
              "    </tr>\n",
              "    <tr>\n",
              "      <th>2009</th>\n",
              "      <th>2009</th>\n",
              "      <td>Adventure</td>\n",
              "      <td>1.153656</td>\n",
              "    </tr>\n",
              "    <tr>\n",
              "      <th>2010</th>\n",
              "      <th>2010</th>\n",
              "      <td>Adventure</td>\n",
              "      <td>1.378913</td>\n",
              "    </tr>\n",
              "    <tr>\n",
              "      <th>2011</th>\n",
              "      <th>2011</th>\n",
              "      <td>Western</td>\n",
              "      <td>1.175800</td>\n",
              "    </tr>\n",
              "    <tr>\n",
              "      <th>2012</th>\n",
              "      <th>2012</th>\n",
              "      <td>Western</td>\n",
              "      <td>1.732778</td>\n",
              "    </tr>\n",
              "    <tr>\n",
              "      <th>2013</th>\n",
              "      <th>2013</th>\n",
              "      <td>Adventure</td>\n",
              "      <td>1.294491</td>\n",
              "    </tr>\n",
              "    <tr>\n",
              "      <th>2014</th>\n",
              "      <th>2014</th>\n",
              "      <td>Adventure</td>\n",
              "      <td>2.430526</td>\n",
              "    </tr>\n",
              "    <tr>\n",
              "      <th>2015</th>\n",
              "      <th>2015</th>\n",
              "      <td>Adventure</td>\n",
              "      <td>3.283786</td>\n",
              "    </tr>\n",
              "  </tbody>\n",
              "</table>\n",
              "</div>\n",
              "      <button class=\"colab-df-convert\" onclick=\"convertToInteractive('df-89fbc549-b904-4f29-81b6-709a62aad289')\"\n",
              "              title=\"Convert this dataframe to an interactive table.\"\n",
              "              style=\"display:none;\">\n",
              "        \n",
              "  <svg xmlns=\"http://www.w3.org/2000/svg\" height=\"24px\"viewBox=\"0 0 24 24\"\n",
              "       width=\"24px\">\n",
              "    <path d=\"M0 0h24v24H0V0z\" fill=\"none\"/>\n",
              "    <path d=\"M18.56 5.44l.94 2.06.94-2.06 2.06-.94-2.06-.94-.94-2.06-.94 2.06-2.06.94zm-11 1L8.5 8.5l.94-2.06 2.06-.94-2.06-.94L8.5 2.5l-.94 2.06-2.06.94zm10 10l.94 2.06.94-2.06 2.06-.94-2.06-.94-.94-2.06-.94 2.06-2.06.94z\"/><path d=\"M17.41 7.96l-1.37-1.37c-.4-.4-.92-.59-1.43-.59-.52 0-1.04.2-1.43.59L10.3 9.45l-7.72 7.72c-.78.78-.78 2.05 0 2.83L4 21.41c.39.39.9.59 1.41.59.51 0 1.02-.2 1.41-.59l7.78-7.78 2.81-2.81c.8-.78.8-2.07 0-2.86zM5.41 20L4 18.59l7.72-7.72 1.47 1.35L5.41 20z\"/>\n",
              "  </svg>\n",
              "      </button>\n",
              "      \n",
              "  <style>\n",
              "    .colab-df-container {\n",
              "      display:flex;\n",
              "      flex-wrap:wrap;\n",
              "      gap: 12px;\n",
              "    }\n",
              "\n",
              "    .colab-df-convert {\n",
              "      background-color: #E8F0FE;\n",
              "      border: none;\n",
              "      border-radius: 50%;\n",
              "      cursor: pointer;\n",
              "      display: none;\n",
              "      fill: #1967D2;\n",
              "      height: 32px;\n",
              "      padding: 0 0 0 0;\n",
              "      width: 32px;\n",
              "    }\n",
              "\n",
              "    .colab-df-convert:hover {\n",
              "      background-color: #E2EBFA;\n",
              "      box-shadow: 0px 1px 2px rgba(60, 64, 67, 0.3), 0px 1px 3px 1px rgba(60, 64, 67, 0.15);\n",
              "      fill: #174EA6;\n",
              "    }\n",
              "\n",
              "    [theme=dark] .colab-df-convert {\n",
              "      background-color: #3B4455;\n",
              "      fill: #D2E3FC;\n",
              "    }\n",
              "\n",
              "    [theme=dark] .colab-df-convert:hover {\n",
              "      background-color: #434B5C;\n",
              "      box-shadow: 0px 1px 3px 1px rgba(0, 0, 0, 0.15);\n",
              "      filter: drop-shadow(0px 1px 2px rgba(0, 0, 0, 0.3));\n",
              "      fill: #FFFFFF;\n",
              "    }\n",
              "  </style>\n",
              "\n",
              "      <script>\n",
              "        const buttonEl =\n",
              "          document.querySelector('#df-89fbc549-b904-4f29-81b6-709a62aad289 button.colab-df-convert');\n",
              "        buttonEl.style.display =\n",
              "          google.colab.kernel.accessAllowed ? 'block' : 'none';\n",
              "\n",
              "        async function convertToInteractive(key) {\n",
              "          const element = document.querySelector('#df-89fbc549-b904-4f29-81b6-709a62aad289');\n",
              "          const dataTable =\n",
              "            await google.colab.kernel.invokeFunction('convertToInteractive',\n",
              "                                                     [key], {});\n",
              "          if (!dataTable) return;\n",
              "\n",
              "          const docLinkHtml = 'Like what you see? Visit the ' +\n",
              "            '<a target=\"_blank\" href=https://colab.research.google.com/notebooks/data_table.ipynb>data table notebook</a>'\n",
              "            + ' to learn more about interactive tables.';\n",
              "          element.innerHTML = '';\n",
              "          dataTable['output_type'] = 'display_data';\n",
              "          await google.colab.output.renderOutput(dataTable, element);\n",
              "          const docLink = document.createElement('div');\n",
              "          docLink.innerHTML = docLinkHtml;\n",
              "          element.appendChild(docLink);\n",
              "        }\n",
              "      </script>\n",
              "    </div>\n",
              "  </div>\n",
              "  "
            ]
          },
          "metadata": {},
          "execution_count": 15
        }
      ]
    },
    {
      "cell_type": "code",
      "source": [
        "# from the year 1960 to 2015 the genre Adventure is popular 14 times\n",
        "popular_yearly['genres'].value_counts()"
      ],
      "metadata": {
        "colab": {
          "base_uri": "https://localhost:8080/"
        },
        "id": "OdIsiLVvtOTd",
        "outputId": "08d165f9-46f0-43d5-f58d-98573207f556"
      },
      "execution_count": null,
      "outputs": [
        {
          "output_type": "execute_result",
          "data": {
            "text/plain": [
              "Adventure          14\n",
              "Animation          11\n",
              "Fantasy             8\n",
              "Crime               5\n",
              "War                 3\n",
              "Family              3\n",
              "Music               2\n",
              "Mystery             2\n",
              "Action              2\n",
              "Science Fiction     2\n",
              "Western             2\n",
              "Thriller            1\n",
              "History             1\n",
              "Name: genres, dtype: int64"
            ]
          },
          "metadata": {},
          "execution_count": 16
        }
      ]
    },
    {
      "cell_type": "code",
      "source": [
        "popular_yearly['genres'].value_counts().plot.bar(xlabel='Genres', ylabel='Popularity count', title='Most popular genre from year to year')\n",
        "plt.show()"
      ],
      "metadata": {
        "colab": {
          "base_uri": "https://localhost:8080/",
          "height": 686
        },
        "id": "dFbnZFfQvRec",
        "outputId": "f23303f2-ae51-404d-e5a4-5bd735f82eaa"
      },
      "execution_count": null,
      "outputs": [
        {
          "output_type": "display_data",
          "data": {
            "text/plain": [
              "<Figure size 720x720 with 1 Axes>"
            ],
            "image/png": "[encoded data removed]"
          },
          "metadata": {
            "needs_background": "light"
          }
        }
      ]
    },
    {
      "cell_type": "markdown",
      "source": [
        "**From the year 1960-2015 'Adventure','Animation' and 'Fantasy' were the most popular year to year with the count of 14, 11, and 8 respectively.**"
      ],
      "metadata": {
        "id": "Km23NaZwl0i0"
      }
    },
    {
      "cell_type": "markdown",
      "source": [
        "# **Which movies are the most profitable?**\n"
      ],
      "metadata": {
        "id": "xIJYoaiSHLE7"
      }
    },
    {
      "cell_type": "code",
      "source": [
        "df_tmdb_copy['profit']=df_tmdb_copy['revenue']-df_tmdb_copy['budget']\n",
        "profitable_movies = df_tmdb_copy.sort_values(by='profit', ascending = False)[['original_title','profit']][:15].reset_index(drop=True)\n",
        "profitable_movies"
      ],
      "metadata": {
        "colab": {
          "base_uri": "https://localhost:8080/",
          "height": 520
        },
        "id": "bTuBubpQHLTC",
        "outputId": "fb8da7a7-dce7-462d-f897-9cfc98cb09d8"
      },
      "execution_count": null,
      "outputs": [
        {
          "output_type": "execute_result",
          "data": {
            "text/plain": [
              "                                   original_title      profit\n",
              "0                                          Avatar  2544505847\n",
              "1                    Star Wars: The Force Awakens  1868178225\n",
              "2                                         Titanic  1645034188\n",
              "3                                  Jurassic World  1363528810\n",
              "4                                       Furious 7  1316249360\n",
              "5                                    The Avengers  1299557910\n",
              "6    Harry Potter and the Deathly Hallows: Part 2  1202817822\n",
              "7                         Avengers: Age of Ultron  1125035767\n",
              "8                                          Frozen  1124219009\n",
              "9                                         The Net  1084279658\n",
              "10                                        Minions  1082730962\n",
              "11  The Lord of the Rings: The Return of the King  1024888979\n",
              "12                                     Iron Man 3  1015439994\n",
              "13                 Transformers: Dark of the Moon   928746996\n",
              "14                                        Skyfall   908561013"
            ],
            "text/html": [
              "\n",
              "  <div id=\"df-e8580b19-e5ee-4e3e-8b22-77f854a39fb7\">\n",
              "    <div class=\"colab-df-container\">\n",
              "      <div>\n",
              "<style scoped>\n",
              "    .dataframe tbody tr th:only-of-type {\n",
              "        vertical-align: middle;\n",
              "    }\n",
              "\n",
              "    .dataframe tbody tr th {\n",
              "        vertical-align: top;\n",
              "    }\n",
              "\n",
              "    .dataframe thead th {\n",
              "        text-align: right;\n",
              "    }\n",
              "</style>\n",
              "<table border=\"1\" class=\"dataframe\">\n",
              "  <thead>\n",
              "    <tr style=\"text-align: right;\">\n",
              "      <th></th>\n",
              "      <th>original_title</th>\n",
              "      <th>profit</th>\n",
              "    </tr>\n",
              "  </thead>\n",
              "  <tbody>\n",
              "    <tr>\n",
              "      <th>0</th>\n",
              "      <td>Avatar</td>\n",
              "      <td>2544505847</td>\n",
              "    </tr>\n",
              "    <tr>\n",
              "      <th>1</th>\n",
              "      <td>Star Wars: The Force Awakens</td>\n",
              "      <td>1868178225</td>\n",
              "    </tr>\n",
              "    <tr>\n",
              "      <th>2</th>\n",
              "      <td>Titanic</td>\n",
              "      <td>1645034188</td>\n",
              "    </tr>\n",
              "    <tr>\n",
              "      <th>3</th>\n",
              "      <td>Jurassic World</td>\n",
              "      <td>1363528810</td>\n",
              "    </tr>\n",
              "    <tr>\n",
              "      <th>4</th>\n",
              "      <td>Furious 7</td>\n",
              "      <td>1316249360</td>\n",
              "    </tr>\n",
              "    <tr>\n",
              "      <th>5</th>\n",
              "      <td>The Avengers</td>\n",
              "      <td>1299557910</td>\n",
              "    </tr>\n",
              "    <tr>\n",
              "      <th>6</th>\n",
              "      <td>Harry Potter and the Deathly Hallows: Part 2</td>\n",
              "      <td>1202817822</td>\n",
              "    </tr>\n",
              "    <tr>\n",
              "      <th>7</th>\n",
              "      <td>Avengers: Age of Ultron</td>\n",
              "      <td>1125035767</td>\n",
              "    </tr>\n",
              "    <tr>\n",
              "      <th>8</th>\n",
              "      <td>Frozen</td>\n",
              "      <td>1124219009</td>\n",
              "    </tr>\n",
              "    <tr>\n",
              "      <th>9</th>\n",
              "      <td>The Net</td>\n",
              "      <td>1084279658</td>\n",
              "    </tr>\n",
              "    <tr>\n",
              "      <th>10</th>\n",
              "      <td>Minions</td>\n",
              "      <td>1082730962</td>\n",
              "    </tr>\n",
              "    <tr>\n",
              "      <th>11</th>\n",
              "      <td>The Lord of the Rings: The Return of the King</td>\n",
              "      <td>1024888979</td>\n",
              "    </tr>\n",
              "    <tr>\n",
              "      <th>12</th>\n",
              "      <td>Iron Man 3</td>\n",
              "      <td>1015439994</td>\n",
              "    </tr>\n",
              "    <tr>\n",
              "      <th>13</th>\n",
              "      <td>Transformers: Dark of the Moon</td>\n",
              "      <td>928746996</td>\n",
              "    </tr>\n",
              "    <tr>\n",
              "      <th>14</th>\n",
              "      <td>Skyfall</td>\n",
              "      <td>908561013</td>\n",
              "    </tr>\n",
              "  </tbody>\n",
              "</table>\n",
              "</div>\n",
              "      <button class=\"colab-df-convert\" onclick=\"convertToInteractive('df-e8580b19-e5ee-4e3e-8b22-77f854a39fb7')\"\n",
              "              title=\"Convert this dataframe to an interactive table.\"\n",
              "              style=\"display:none;\">\n",
              "        \n",
              "  <svg xmlns=\"http://www.w3.org/2000/svg\" height=\"24px\"viewBox=\"0 0 24 24\"\n",
              "       width=\"24px\">\n",
              "    <path d=\"M0 0h24v24H0V0z\" fill=\"none\"/>\n",
              "    <path d=\"M18.56 5.44l.94 2.06.94-2.06 2.06-.94-2.06-.94-.94-2.06-.94 2.06-2.06.94zm-11 1L8.5 8.5l.94-2.06 2.06-.94-2.06-.94L8.5 2.5l-.94 2.06-2.06.94zm10 10l.94 2.06.94-2.06 2.06-.94-2.06-.94-.94-2.06-.94 2.06-2.06.94z\"/><path d=\"M17.41 7.96l-1.37-1.37c-.4-.4-.92-.59-1.43-.59-.52 0-1.04.2-1.43.59L10.3 9.45l-7.72 7.72c-.78.78-.78 2.05 0 2.83L4 21.41c.39.39.9.59 1.41.59.51 0 1.02-.2 1.41-.59l7.78-7.78 2.81-2.81c.8-.78.8-2.07 0-2.86zM5.41 20L4 18.59l7.72-7.72 1.47 1.35L5.41 20z\"/>\n",
              "  </svg>\n",
              "      </button>\n",
              "      \n",
              "  <style>\n",
              "    .colab-df-container {\n",
              "      display:flex;\n",
              "      flex-wrap:wrap;\n",
              "      gap: 12px;\n",
              "    }\n",
              "\n",
              "    .colab-df-convert {\n",
              "      background-color: #E8F0FE;\n",
              "      border: none;\n",
              "      border-radius: 50%;\n",
              "      cursor: pointer;\n",
              "      display: none;\n",
              "      fill: #1967D2;\n",
              "      height: 32px;\n",
              "      padding: 0 0 0 0;\n",
              "      width: 32px;\n",
              "    }\n",
              "\n",
              "    .colab-df-convert:hover {\n",
              "      background-color: #E2EBFA;\n",
              "      box-shadow: 0px 1px 2px rgba(60, 64, 67, 0.3), 0px 1px 3px 1px rgba(60, 64, 67, 0.15);\n",
              "      fill: #174EA6;\n",
              "    }\n",
              "\n",
              "    [theme=dark] .colab-df-convert {\n",
              "      background-color: #3B4455;\n",
              "      fill: #D2E3FC;\n",
              "    }\n",
              "\n",
              "    [theme=dark] .colab-df-convert:hover {\n",
              "      background-color: #434B5C;\n",
              "      box-shadow: 0px 1px 3px 1px rgba(0, 0, 0, 0.15);\n",
              "      filter: drop-shadow(0px 1px 2px rgba(0, 0, 0, 0.3));\n",
              "      fill: #FFFFFF;\n",
              "    }\n",
              "  </style>\n",
              "\n",
              "      <script>\n",
              "        const buttonEl =\n",
              "          document.querySelector('#df-e8580b19-e5ee-4e3e-8b22-77f854a39fb7 button.colab-df-convert');\n",
              "        buttonEl.style.display =\n",
              "          google.colab.kernel.accessAllowed ? 'block' : 'none';\n",
              "\n",
              "        async function convertToInteractive(key) {\n",
              "          const element = document.querySelector('#df-e8580b19-e5ee-4e3e-8b22-77f854a39fb7');\n",
              "          const dataTable =\n",
              "            await google.colab.kernel.invokeFunction('convertToInteractive',\n",
              "                                                     [key], {});\n",
              "          if (!dataTable) return;\n",
              "\n",
              "          const docLinkHtml = 'Like what you see? Visit the ' +\n",
              "            '<a target=\"_blank\" href=https://colab.research.google.com/notebooks/data_table.ipynb>data table notebook</a>'\n",
              "            + ' to learn more about interactive tables.';\n",
              "          element.innerHTML = '';\n",
              "          dataTable['output_type'] = 'display_data';\n",
              "          await google.colab.output.renderOutput(dataTable, element);\n",
              "          const docLink = document.createElement('div');\n",
              "          docLink.innerHTML = docLinkHtml;\n",
              "          element.appendChild(docLink);\n",
              "        }\n",
              "      </script>\n",
              "    </div>\n",
              "  </div>\n",
              "  "
            ]
          },
          "metadata": {},
          "execution_count": 18
        }
      ]
    },
    {
      "cell_type": "code",
      "source": [
        "profitable_movies.set_index('original_title', inplace=True)"
      ],
      "metadata": {
        "id": "ms6MfLxqa4Gg"
      },
      "execution_count": null,
      "outputs": []
    },
    {
      "cell_type": "code",
      "source": [
        "profitable_movies.sort_values('profit').plot.barh(xlabel='Movie Title', ylabel='Profit', title='Top 15 most Profitable Movies')\n",
        "plt.show()"
      ],
      "metadata": {
        "colab": {
          "base_uri": "https://localhost:8080/",
          "height": 621
        },
        "id": "NiYqp0YcYxHv",
        "outputId": "b6674d8b-4f87-4bbc-d9bb-b2c8436465ff"
      },
      "execution_count": null,
      "outputs": [
        {
          "output_type": "display_data",
          "data": {
            "text/plain": [
              "<Figure size 720x720 with 1 Axes>"
            ],
            "image/png": "[encoded data removed]"
          },
          "metadata": {
            "needs_background": "light"
          }
        }
      ]
    },
    {
      "cell_type": "markdown",
      "source": [
        "**The most profitable movie is AVATAR with $2.544 billion profit**"
      ],
      "metadata": {
        "id": "Zizo01Xwm0gI"
      }
    },
    {
      "cell_type": "markdown",
      "source": [
        "# **What is the percentage of all genres?**\n",
        "\n"
      ],
      "metadata": {
        "id": "2rw2bCWZbTCN"
      }
    },
    {
      "cell_type": "code",
      "source": [
        "plt.title(label='Percentage of all genres produced from 1960-2015')\n",
        "genres = df_genre['genres'].value_counts()\n",
        "plt.pie(genres, labels=genres.index, pctdistance=1.1, shadow=True, labeldistance=1.18, autopct='%1.2f%%')\n",
        "plt.legend(loc=10)\n",
        "plt.show()"
      ],
      "metadata": {
        "colab": {
          "base_uri": "https://localhost:8080/",
          "height": 591
        },
        "id": "xUzcgOYGxeen",
        "outputId": "c105df80-a825-4c18-fb63-d01de859e153"
      },
      "execution_count": null,
      "outputs": [
        {
          "output_type": "display_data",
          "data": {
            "text/plain": [
              "<Figure size 720x720 with 1 Axes>"
            ],
            "image/png": "[encoded data removed]"
          },
          "metadata": {}
        }
      ]
    },
    {
      "cell_type": "markdown",
      "source": [
        "There are 20 unique genre in the dataset. Drama, Comedy and Thriller are the most produced movie genre with 17.14%, 14.11% and 10.85% respectively"
      ],
      "metadata": {
        "id": "NRYgxyO6n0Oi"
      }
    },
    {
      "cell_type": "markdown",
      "source": [
        "# **Which actors acted the most movies from 1960 to 2015?**"
      ],
      "metadata": {
        "id": "D191_LMjxe6x"
      }
    },
    {
      "cell_type": "code",
      "source": [
        "df_tmdb_copy['cast']=df_tmdb_copy ['cast'].apply(seperator)"
      ],
      "metadata": {
        "id": "06cQwCOZc2gX"
      },
      "execution_count": null,
      "outputs": []
    },
    {
      "cell_type": "code",
      "source": [
        "df_cast = df_tmdb_copy.explode('cast')[['popularity', 'cast','release_year']]\n",
        "df_cast['cast'].value_counts()[:15].plot.bar(xlabel='Actors Name', ylabel='Frequency count', title='Top 15 actors with most movie from 1960 to 2015')\n",
        "print(df_cast['cast'].value_counts()[:15])\n",
        "plt.legend()"
      ],
      "metadata": {
        "colab": {
          "base_uri": "https://localhost:8080/",
          "height": 1000
        },
        "id": "fX3P63dpcKPw",
        "outputId": "ca0109c9-72e8-4f3e-f64e-4581eb3c4f4e"
      },
      "execution_count": null,
      "outputs": [
        {
          "output_type": "stream",
          "name": "stdout",
          "text": [
            "Robert De Niro        72\n",
            "Samuel L. Jackson     71\n",
            "Bruce Willis          62\n",
            "Nicolas Cage          61\n",
            "Michael Caine         53\n",
            "Robin Williams        51\n",
            "John Cusack           50\n",
            "John Goodman          49\n",
            "Morgan Freeman        49\n",
            "Liam Neeson           48\n",
            "Susan Sarandon        48\n",
            "Julianne Moore        47\n",
            "Alec Baldwin          47\n",
            "Christopher Walken    46\n",
            "Gene Hackman          46\n",
            "Name: cast, dtype: int64\n"
          ]
        },
        {
          "output_type": "execute_result",
          "data": {
            "text/plain": [
              "<matplotlib.legend.Legend at 0x7f98dd5daa90>"
            ]
          },
          "metadata": {},
          "execution_count": 23
        },
        {
          "output_type": "display_data",
          "data": {
            "text/plain": [
              "<Figure size 720x720 with 1 Axes>"
            ],
            "image/png": "[encoded data removed]"
          },
          "metadata": {
            "needs_background": "light"
          }
        }
      ]
    },
    {
      "cell_type": "markdown",
      "source": [
        "Robert De Niro, Samuel L.Jackson and Bruce Willis acted the most movies from 1960-2015 "
      ],
      "metadata": {
        "id": "Ev6Z9gOrc0A3"
      }
    },
    {
      "cell_type": "markdown",
      "source": [
        "# **Which movies have the highest Average Votes?**"
      ],
      "metadata": {
        "id": "QPtxQ11KfMm8"
      }
    },
    {
      "cell_type": "code",
      "source": [
        "df_vote_average = df_tmdb_copy[['original_title', 'runtime', 'vote_average','release_year','popularity','revenue','budget', 'profit']]\n",
        "vote_average = df_vote_average.sort_values(by='vote_average', ascending = False)[['original_title', 'vote_average','runtime', 'release_year']][:15].reset_index(drop=True)\n",
        "vote_average"
      ],
      "metadata": {
        "colab": {
          "base_uri": "https://localhost:8080/",
          "height": 520
        },
        "id": "l0b_rLR6fM4a",
        "outputId": "ca192c28-eeb9-4d19-c1e5-8e76c14bda86"
      },
      "execution_count": null,
      "outputs": [
        {
          "output_type": "execute_result",
          "data": {
            "text/plain": [
              "                                       original_title  vote_average  runtime  \\\n",
              "0                       The Story of Film: An Odyssey           9.2      900   \n",
              "1                       Black Mirror: White Christmas           8.8       74   \n",
              "2                                   Pink Floyd: Pulse           8.7      145   \n",
              "3                                   The Art of Flight           8.5       80   \n",
              "4   A Personal Journey with Martin Scorsese Throug...           8.5      225   \n",
              "5                 Dave Chappelle: Killin' Them Softly           8.5       57   \n",
              "6                               Queen - Rock Montreal           8.5      138   \n",
              "7                            The Shawshank Redemption           8.4      142   \n",
              "8                      Rush: Beyond the Lighted Stage           8.4      107   \n",
              "9       The Jinx: The Life and Deaths of Robert Durst           8.4      240   \n",
              "10                                  Guten Tag, RamÃ³n           8.4      119   \n",
              "11                                  Stop Making Sense           8.4       88   \n",
              "12                             Bill Hicks: Relentless           8.4       61   \n",
              "13                                  Depeche Mode: 101           8.4      117   \n",
              "14                                            Tropico           8.4       27   \n",
              "\n",
              "    release_year  \n",
              "0           2011  \n",
              "1           2014  \n",
              "2           2006  \n",
              "3           2011  \n",
              "4           1995  \n",
              "5           2000  \n",
              "6           1981  \n",
              "7           1994  \n",
              "8           2010  \n",
              "9           2015  \n",
              "10          2013  \n",
              "11          1984  \n",
              "12          1992  \n",
              "13          1989  \n",
              "14          2013  "
            ],
            "text/html": [
              "\n",
              "  <div id=\"df-279a88a4-377d-4928-8161-0a16e7a2852d\">\n",
              "    <div class=\"colab-df-container\">\n",
              "      <div>\n",
              "<style scoped>\n",
              "    .dataframe tbody tr th:only-of-type {\n",
              "        vertical-align: middle;\n",
              "    }\n",
              "\n",
              "    .dataframe tbody tr th {\n",
              "        vertical-align: top;\n",
              "    }\n",
              "\n",
              "    .dataframe thead th {\n",
              "        text-align: right;\n",
              "    }\n",
              "</style>\n",
              "<table border=\"1\" class=\"dataframe\">\n",
              "  <thead>\n",
              "    <tr style=\"text-align: right;\">\n",
              "      <th></th>\n",
              "      <th>original_title</th>\n",
              "      <th>vote_average</th>\n",
              "      <th>runtime</th>\n",
              "      <th>release_year</th>\n",
              "    </tr>\n",
              "  </thead>\n",
              "  <tbody>\n",
              "    <tr>\n",
              "      <th>0</th>\n",
              "      <td>The Story of Film: An Odyssey</td>\n",
              "      <td>9.2</td>\n",
              "      <td>900</td>\n",
              "      <td>2011</td>\n",
              "    </tr>\n",
              "    <tr>\n",
              "      <th>1</th>\n",
              "      <td>Black Mirror: White Christmas</td>\n",
              "      <td>8.8</td>\n",
              "      <td>74</td>\n",
              "      <td>2014</td>\n",
              "    </tr>\n",
              "    <tr>\n",
              "      <th>2</th>\n",
              "      <td>Pink Floyd: Pulse</td>\n",
              "      <td>8.7</td>\n",
              "      <td>145</td>\n",
              "      <td>2006</td>\n",
              "    </tr>\n",
              "    <tr>\n",
              "      <th>3</th>\n",
              "      <td>The Art of Flight</td>\n",
              "      <td>8.5</td>\n",
              "      <td>80</td>\n",
              "      <td>2011</td>\n",
              "    </tr>\n",
              "    <tr>\n",
              "      <th>4</th>\n",
              "      <td>A Personal Journey with Martin Scorsese Throug...</td>\n",
              "      <td>8.5</td>\n",
              "      <td>225</td>\n",
              "      <td>1995</td>\n",
              "    </tr>\n",
              "    <tr>\n",
              "      <th>5</th>\n",
              "      <td>Dave Chappelle: Killin' Them Softly</td>\n",
              "      <td>8.5</td>\n",
              "      <td>57</td>\n",
              "      <td>2000</td>\n",
              "    </tr>\n",
              "    <tr>\n",
              "      <th>6</th>\n",
              "      <td>Queen - Rock Montreal</td>\n",
              "      <td>8.5</td>\n",
              "      <td>138</td>\n",
              "      <td>1981</td>\n",
              "    </tr>\n",
              "    <tr>\n",
              "      <th>7</th>\n",
              "      <td>The Shawshank Redemption</td>\n",
              "      <td>8.4</td>\n",
              "      <td>142</td>\n",
              "      <td>1994</td>\n",
              "    </tr>\n",
              "    <tr>\n",
              "      <th>8</th>\n",
              "      <td>Rush: Beyond the Lighted Stage</td>\n",
              "      <td>8.4</td>\n",
              "      <td>107</td>\n",
              "      <td>2010</td>\n",
              "    </tr>\n",
              "    <tr>\n",
              "      <th>9</th>\n",
              "      <td>The Jinx: The Life and Deaths of Robert Durst</td>\n",
              "      <td>8.4</td>\n",
              "      <td>240</td>\n",
              "      <td>2015</td>\n",
              "    </tr>\n",
              "    <tr>\n",
              "      <th>10</th>\n",
              "      <td>Guten Tag, RamÃ³n</td>\n",
              "      <td>8.4</td>\n",
              "      <td>119</td>\n",
              "      <td>2013</td>\n",
              "    </tr>\n",
              "    <tr>\n",
              "      <th>11</th>\n",
              "      <td>Stop Making Sense</td>\n",
              "      <td>8.4</td>\n",
              "      <td>88</td>\n",
              "      <td>1984</td>\n",
              "    </tr>\n",
              "    <tr>\n",
              "      <th>12</th>\n",
              "      <td>Bill Hicks: Relentless</td>\n",
              "      <td>8.4</td>\n",
              "      <td>61</td>\n",
              "      <td>1992</td>\n",
              "    </tr>\n",
              "    <tr>\n",
              "      <th>13</th>\n",
              "      <td>Depeche Mode: 101</td>\n",
              "      <td>8.4</td>\n",
              "      <td>117</td>\n",
              "      <td>1989</td>\n",
              "    </tr>\n",
              "    <tr>\n",
              "      <th>14</th>\n",
              "      <td>Tropico</td>\n",
              "      <td>8.4</td>\n",
              "      <td>27</td>\n",
              "      <td>2013</td>\n",
              "    </tr>\n",
              "  </tbody>\n",
              "</table>\n",
              "</div>\n",
              "      <button class=\"colab-df-convert\" onclick=\"convertToInteractive('df-279a88a4-377d-4928-8161-0a16e7a2852d')\"\n",
              "              title=\"Convert this dataframe to an interactive table.\"\n",
              "              style=\"display:none;\">\n",
              "        \n",
              "  <svg xmlns=\"http://www.w3.org/2000/svg\" height=\"24px\"viewBox=\"0 0 24 24\"\n",
              "       width=\"24px\">\n",
              "    <path d=\"M0 0h24v24H0V0z\" fill=\"none\"/>\n",
              "    <path d=\"M18.56 5.44l.94 2.06.94-2.06 2.06-.94-2.06-.94-.94-2.06-.94 2.06-2.06.94zm-11 1L8.5 8.5l.94-2.06 2.06-.94-2.06-.94L8.5 2.5l-.94 2.06-2.06.94zm10 10l.94 2.06.94-2.06 2.06-.94-2.06-.94-.94-2.06-.94 2.06-2.06.94z\"/><path d=\"M17.41 7.96l-1.37-1.37c-.4-.4-.92-.59-1.43-.59-.52 0-1.04.2-1.43.59L10.3 9.45l-7.72 7.72c-.78.78-.78 2.05 0 2.83L4 21.41c.39.39.9.59 1.41.59.51 0 1.02-.2 1.41-.59l7.78-7.78 2.81-2.81c.8-.78.8-2.07 0-2.86zM5.41 20L4 18.59l7.72-7.72 1.47 1.35L5.41 20z\"/>\n",
              "  </svg>\n",
              "      </button>\n",
              "      \n",
              "  <style>\n",
              "    .colab-df-container {\n",
              "      display:flex;\n",
              "      flex-wrap:wrap;\n",
              "      gap: 12px;\n",
              "    }\n",
              "\n",
              "    .colab-df-convert {\n",
              "      background-color: #E8F0FE;\n",
              "      border: none;\n",
              "      border-radius: 50%;\n",
              "      cursor: pointer;\n",
              "      display: none;\n",
              "      fill: #1967D2;\n",
              "      height: 32px;\n",
              "      padding: 0 0 0 0;\n",
              "      width: 32px;\n",
              "    }\n",
              "\n",
              "    .colab-df-convert:hover {\n",
              "      background-color: #E2EBFA;\n",
              "      box-shadow: 0px 1px 2px rgba(60, 64, 67, 0.3), 0px 1px 3px 1px rgba(60, 64, 67, 0.15);\n",
              "      fill: #174EA6;\n",
              "    }\n",
              "\n",
              "    [theme=dark] .colab-df-convert {\n",
              "      background-color: #3B4455;\n",
              "      fill: #D2E3FC;\n",
              "    }\n",
              "\n",
              "    [theme=dark] .colab-df-convert:hover {\n",
              "      background-color: #434B5C;\n",
              "      box-shadow: 0px 1px 3px 1px rgba(0, 0, 0, 0.15);\n",
              "      filter: drop-shadow(0px 1px 2px rgba(0, 0, 0, 0.3));\n",
              "      fill: #FFFFFF;\n",
              "    }\n",
              "  </style>\n",
              "\n",
              "      <script>\n",
              "        const buttonEl =\n",
              "          document.querySelector('#df-279a88a4-377d-4928-8161-0a16e7a2852d button.colab-df-convert');\n",
              "        buttonEl.style.display =\n",
              "          google.colab.kernel.accessAllowed ? 'block' : 'none';\n",
              "\n",
              "        async function convertToInteractive(key) {\n",
              "          const element = document.querySelector('#df-279a88a4-377d-4928-8161-0a16e7a2852d');\n",
              "          const dataTable =\n",
              "            await google.colab.kernel.invokeFunction('convertToInteractive',\n",
              "                                                     [key], {});\n",
              "          if (!dataTable) return;\n",
              "\n",
              "          const docLinkHtml = 'Like what you see? Visit the ' +\n",
              "            '<a target=\"_blank\" href=https://colab.research.google.com/notebooks/data_table.ipynb>data table notebook</a>'\n",
              "            + ' to learn more about interactive tables.';\n",
              "          element.innerHTML = '';\n",
              "          dataTable['output_type'] = 'display_data';\n",
              "          await google.colab.output.renderOutput(dataTable, element);\n",
              "          const docLink = document.createElement('div');\n",
              "          docLink.innerHTML = docLinkHtml;\n",
              "          element.appendChild(docLink);\n",
              "        }\n",
              "      </script>\n",
              "    </div>\n",
              "  </div>\n",
              "  "
            ]
          },
          "metadata": {},
          "execution_count": 24
        }
      ]
    },
    {
      "cell_type": "code",
      "source": [
        "correlation = df_vote_average.sort_values(by='vote_average', ascending = False)[['original_title', 'runtime', 'vote_average','popularity','revenue','budget', 'profit']].corr()\n",
        "correlation"
      ],
      "metadata": {
        "colab": {
          "base_uri": "https://localhost:8080/",
          "height": 238
        },
        "id": "Z3mQmgDUxVxh",
        "outputId": "02bf331c-ac69-4884-8d10-ab89ddf1c630"
      },
      "execution_count": null,
      "outputs": [
        {
          "output_type": "execute_result",
          "data": {
            "text/plain": [
              "               runtime  vote_average  popularity   revenue    budget    profit\n",
              "runtime       1.000000      0.177276    0.138278  0.164276  0.192168  0.137497\n",
              "vote_average  0.177276      1.000000    0.217906  0.178477  0.087318  0.188220\n",
              "popularity    0.138278      0.217906    1.000000  0.662843  0.544240  0.628699\n",
              "revenue       0.164276      0.178477    0.662843  1.000000  0.734487  0.976173\n",
              "budget        0.192168      0.087318    0.544240  0.734487  1.000000  0.569730\n",
              "profit        0.137497      0.188220    0.628699  0.976173  0.569730  1.000000"
            ],
            "text/html": [
              "\n",
              "  <div id=\"df-c93a7e66-0717-4ca9-ad68-2977b40b56ff\">\n",
              "    <div class=\"colab-df-container\">\n",
              "      <div>\n",
              "<style scoped>\n",
              "    .dataframe tbody tr th:only-of-type {\n",
              "        vertical-align: middle;\n",
              "    }\n",
              "\n",
              "    .dataframe tbody tr th {\n",
              "        vertical-align: top;\n",
              "    }\n",
              "\n",
              "    .dataframe thead th {\n",
              "        text-align: right;\n",
              "    }\n",
              "</style>\n",
              "<table border=\"1\" class=\"dataframe\">\n",
              "  <thead>\n",
              "    <tr style=\"text-align: right;\">\n",
              "      <th></th>\n",
              "      <th>runtime</th>\n",
              "      <th>vote_average</th>\n",
              "      <th>popularity</th>\n",
              "      <th>revenue</th>\n",
              "      <th>budget</th>\n",
              "      <th>profit</th>\n",
              "    </tr>\n",
              "  </thead>\n",
              "  <tbody>\n",
              "    <tr>\n",
              "      <th>runtime</th>\n",
              "      <td>1.000000</td>\n",
              "      <td>0.177276</td>\n",
              "      <td>0.138278</td>\n",
              "      <td>0.164276</td>\n",
              "      <td>0.192168</td>\n",
              "      <td>0.137497</td>\n",
              "    </tr>\n",
              "    <tr>\n",
              "      <th>vote_average</th>\n",
              "      <td>0.177276</td>\n",
              "      <td>1.000000</td>\n",
              "      <td>0.217906</td>\n",
              "      <td>0.178477</td>\n",
              "      <td>0.087318</td>\n",
              "      <td>0.188220</td>\n",
              "    </tr>\n",
              "    <tr>\n",
              "      <th>popularity</th>\n",
              "      <td>0.138278</td>\n",
              "      <td>0.217906</td>\n",
              "      <td>1.000000</td>\n",
              "      <td>0.662843</td>\n",
              "      <td>0.544240</td>\n",
              "      <td>0.628699</td>\n",
              "    </tr>\n",
              "    <tr>\n",
              "      <th>revenue</th>\n",
              "      <td>0.164276</td>\n",
              "      <td>0.178477</td>\n",
              "      <td>0.662843</td>\n",
              "      <td>1.000000</td>\n",
              "      <td>0.734487</td>\n",
              "      <td>0.976173</td>\n",
              "    </tr>\n",
              "    <tr>\n",
              "      <th>budget</th>\n",
              "      <td>0.192168</td>\n",
              "      <td>0.087318</td>\n",
              "      <td>0.544240</td>\n",
              "      <td>0.734487</td>\n",
              "      <td>1.000000</td>\n",
              "      <td>0.569730</td>\n",
              "    </tr>\n",
              "    <tr>\n",
              "      <th>profit</th>\n",
              "      <td>0.137497</td>\n",
              "      <td>0.188220</td>\n",
              "      <td>0.628699</td>\n",
              "      <td>0.976173</td>\n",
              "      <td>0.569730</td>\n",
              "      <td>1.000000</td>\n",
              "    </tr>\n",
              "  </tbody>\n",
              "</table>\n",
              "</div>\n",
              "      <button class=\"colab-df-convert\" onclick=\"convertToInteractive('df-c93a7e66-0717-4ca9-ad68-2977b40b56ff')\"\n",
              "              title=\"Convert this dataframe to an interactive table.\"\n",
              "              style=\"display:none;\">\n",
              "        \n",
              "  <svg xmlns=\"http://www.w3.org/2000/svg\" height=\"24px\"viewBox=\"0 0 24 24\"\n",
              "       width=\"24px\">\n",
              "    <path d=\"M0 0h24v24H0V0z\" fill=\"none\"/>\n",
              "    <path d=\"M18.56 5.44l.94 2.06.94-2.06 2.06-.94-2.06-.94-.94-2.06-.94 2.06-2.06.94zm-11 1L8.5 8.5l.94-2.06 2.06-.94-2.06-.94L8.5 2.5l-.94 2.06-2.06.94zm10 10l.94 2.06.94-2.06 2.06-.94-2.06-.94-.94-2.06-.94 2.06-2.06.94z\"/><path d=\"M17.41 7.96l-1.37-1.37c-.4-.4-.92-.59-1.43-.59-.52 0-1.04.2-1.43.59L10.3 9.45l-7.72 7.72c-.78.78-.78 2.05 0 2.83L4 21.41c.39.39.9.59 1.41.59.51 0 1.02-.2 1.41-.59l7.78-7.78 2.81-2.81c.8-.78.8-2.07 0-2.86zM5.41 20L4 18.59l7.72-7.72 1.47 1.35L5.41 20z\"/>\n",
              "  </svg>\n",
              "      </button>\n",
              "      \n",
              "  <style>\n",
              "    .colab-df-container {\n",
              "      display:flex;\n",
              "      flex-wrap:wrap;\n",
              "      gap: 12px;\n",
              "    }\n",
              "\n",
              "    .colab-df-convert {\n",
              "      background-color: #E8F0FE;\n",
              "      border: none;\n",
              "      border-radius: 50%;\n",
              "      cursor: pointer;\n",
              "      display: none;\n",
              "      fill: #1967D2;\n",
              "      height: 32px;\n",
              "      padding: 0 0 0 0;\n",
              "      width: 32px;\n",
              "    }\n",
              "\n",
              "    .colab-df-convert:hover {\n",
              "      background-color: #E2EBFA;\n",
              "      box-shadow: 0px 1px 2px rgba(60, 64, 67, 0.3), 0px 1px 3px 1px rgba(60, 64, 67, 0.15);\n",
              "      fill: #174EA6;\n",
              "    }\n",
              "\n",
              "    [theme=dark] .colab-df-convert {\n",
              "      background-color: #3B4455;\n",
              "      fill: #D2E3FC;\n",
              "    }\n",
              "\n",
              "    [theme=dark] .colab-df-convert:hover {\n",
              "      background-color: #434B5C;\n",
              "      box-shadow: 0px 1px 3px 1px rgba(0, 0, 0, 0.15);\n",
              "      filter: drop-shadow(0px 1px 2px rgba(0, 0, 0, 0.3));\n",
              "      fill: #FFFFFF;\n",
              "    }\n",
              "  </style>\n",
              "\n",
              "      <script>\n",
              "        const buttonEl =\n",
              "          document.querySelector('#df-c93a7e66-0717-4ca9-ad68-2977b40b56ff button.colab-df-convert');\n",
              "        buttonEl.style.display =\n",
              "          google.colab.kernel.accessAllowed ? 'block' : 'none';\n",
              "\n",
              "        async function convertToInteractive(key) {\n",
              "          const element = document.querySelector('#df-c93a7e66-0717-4ca9-ad68-2977b40b56ff');\n",
              "          const dataTable =\n",
              "            await google.colab.kernel.invokeFunction('convertToInteractive',\n",
              "                                                     [key], {});\n",
              "          if (!dataTable) return;\n",
              "\n",
              "          const docLinkHtml = 'Like what you see? Visit the ' +\n",
              "            '<a target=\"_blank\" href=https://colab.research.google.com/notebooks/data_table.ipynb>data table notebook</a>'\n",
              "            + ' to learn more about interactive tables.';\n",
              "          element.innerHTML = '';\n",
              "          dataTable['output_type'] = 'display_data';\n",
              "          await google.colab.output.renderOutput(dataTable, element);\n",
              "          const docLink = document.createElement('div');\n",
              "          docLink.innerHTML = docLinkHtml;\n",
              "          element.appendChild(docLink);\n",
              "        }\n",
              "      </script>\n",
              "    </div>\n",
              "  </div>\n",
              "  "
            ]
          },
          "metadata": {},
          "execution_count": 25
        }
      ]
    },
    {
      "cell_type": "code",
      "source": [
        "sns.heatmap(correlation)\n",
        "plt.title('Correlation plot')\n",
        "plt.show()"
      ],
      "metadata": {
        "colab": {
          "base_uri": "https://localhost:8080/",
          "height": 608
        },
        "id": "hhGaY4Ouy56E",
        "outputId": "3f8d5ef6-0751-4499-821d-50542de5e49f"
      },
      "execution_count": null,
      "outputs": [
        {
          "output_type": "display_data",
          "data": {
            "text/plain": [
              "<Figure size 720x720 with 2 Axes>"
            ],
            "image/png": "[encoded data removed]"
          },
          "metadata": {
            "needs_background": "light"
          }
        }
      ]
    },
    {
      "cell_type": "markdown",
      "source": [
        "The Story of Film: An Odyssey, Black Mirror: White Christmas and Pink Floyd: Pulse are the movies with top 3 highest vote average"
      ],
      "metadata": {
        "id": "NdIiePJcfp4_"
      }
    },
    {
      "cell_type": "markdown",
      "source": [
        "# **Which movies have the highest Popularity?**\n"
      ],
      "metadata": {
        "id": "XjVDY4IDzbQt"
      }
    },
    {
      "cell_type": "code",
      "source": [
        "df_vote_average = df_tmdb_copy[['original_title', 'runtime', 'vote_average','release_year','popularity','revenue','budget', 'profit']]\n",
        "popular_movies = df_vote_average.sort_values(by='popularity', ascending = False)[['original_title','popularity','runtime','release_year']][:15].reset_index(drop=True)\n",
        "popular_movies"
      ],
      "metadata": {
        "colab": {
          "base_uri": "https://localhost:8080/",
          "height": 520
        },
        "id": "E0BBziENzaVN",
        "outputId": "f2d9a1e9-f7a2-4fef-a672-6f5ca5968fa6"
      },
      "execution_count": null,
      "outputs": [
        {
          "output_type": "execute_result",
          "data": {
            "text/plain": [
              "                               original_title  popularity  runtime  \\\n",
              "0                              Jurassic World   32.985763      124   \n",
              "1                          Mad Max: Fury Road   28.419936      120   \n",
              "2                                Interstellar   24.949134      169   \n",
              "3                     Guardians of the Galaxy   14.311205      121   \n",
              "4                                   Insurgent   13.112507      119   \n",
              "5         Captain America: The Winter Soldier   12.971027      136   \n",
              "6                                   Star Wars   12.037933      121   \n",
              "7                                   John Wick   11.422751      101   \n",
              "8                Star Wars: The Force Awakens   11.173104      136   \n",
              "9       The Hunger Games: Mockingjay - Part 1   10.739009      123   \n",
              "10  The Hobbit: The Battle of the Five Armies   10.174599      144   \n",
              "11                                     Avatar    9.432768      162   \n",
              "12                                  Inception    9.363643      148   \n",
              "13                                  Furious 7    9.335014      137   \n",
              "14                               The Revenant    9.110700      156   \n",
              "\n",
              "    release_year  \n",
              "0           2015  \n",
              "1           2015  \n",
              "2           2014  \n",
              "3           2014  \n",
              "4           2015  \n",
              "5           2014  \n",
              "6           1977  \n",
              "7           2014  \n",
              "8           2015  \n",
              "9           2014  \n",
              "10          2014  \n",
              "11          2009  \n",
              "12          2010  \n",
              "13          2015  \n",
              "14          2015  "
            ],
            "text/html": [
              "\n",
              "  <div id=\"df-79ee084a-9c23-450e-b366-232d0ee99081\">\n",
              "    <div class=\"colab-df-container\">\n",
              "      <div>\n",
              "<style scoped>\n",
              "    .dataframe tbody tr th:only-of-type {\n",
              "        vertical-align: middle;\n",
              "    }\n",
              "\n",
              "    .dataframe tbody tr th {\n",
              "        vertical-align: top;\n",
              "    }\n",
              "\n",
              "    .dataframe thead th {\n",
              "        text-align: right;\n",
              "    }\n",
              "</style>\n",
              "<table border=\"1\" class=\"dataframe\">\n",
              "  <thead>\n",
              "    <tr style=\"text-align: right;\">\n",
              "      <th></th>\n",
              "      <th>original_title</th>\n",
              "      <th>popularity</th>\n",
              "      <th>runtime</th>\n",
              "      <th>release_year</th>\n",
              "    </tr>\n",
              "  </thead>\n",
              "  <tbody>\n",
              "    <tr>\n",
              "      <th>0</th>\n",
              "      <td>Jurassic World</td>\n",
              "      <td>32.985763</td>\n",
              "      <td>124</td>\n",
              "      <td>2015</td>\n",
              "    </tr>\n",
              "    <tr>\n",
              "      <th>1</th>\n",
              "      <td>Mad Max: Fury Road</td>\n",
              "      <td>28.419936</td>\n",
              "      <td>120</td>\n",
              "      <td>2015</td>\n",
              "    </tr>\n",
              "    <tr>\n",
              "      <th>2</th>\n",
              "      <td>Interstellar</td>\n",
              "      <td>24.949134</td>\n",
              "      <td>169</td>\n",
              "      <td>2014</td>\n",
              "    </tr>\n",
              "    <tr>\n",
              "      <th>3</th>\n",
              "      <td>Guardians of the Galaxy</td>\n",
              "      <td>14.311205</td>\n",
              "      <td>121</td>\n",
              "      <td>2014</td>\n",
              "    </tr>\n",
              "    <tr>\n",
              "      <th>4</th>\n",
              "      <td>Insurgent</td>\n",
              "      <td>13.112507</td>\n",
              "      <td>119</td>\n",
              "      <td>2015</td>\n",
              "    </tr>\n",
              "    <tr>\n",
              "      <th>5</th>\n",
              "      <td>Captain America: The Winter Soldier</td>\n",
              "      <td>12.971027</td>\n",
              "      <td>136</td>\n",
              "      <td>2014</td>\n",
              "    </tr>\n",
              "    <tr>\n",
              "      <th>6</th>\n",
              "      <td>Star Wars</td>\n",
              "      <td>12.037933</td>\n",
              "      <td>121</td>\n",
              "      <td>1977</td>\n",
              "    </tr>\n",
              "    <tr>\n",
              "      <th>7</th>\n",
              "      <td>John Wick</td>\n",
              "      <td>11.422751</td>\n",
              "      <td>101</td>\n",
              "      <td>2014</td>\n",
              "    </tr>\n",
              "    <tr>\n",
              "      <th>8</th>\n",
              "      <td>Star Wars: The Force Awakens</td>\n",
              "      <td>11.173104</td>\n",
              "      <td>136</td>\n",
              "      <td>2015</td>\n",
              "    </tr>\n",
              "    <tr>\n",
              "      <th>9</th>\n",
              "      <td>The Hunger Games: Mockingjay - Part 1</td>\n",
              "      <td>10.739009</td>\n",
              "      <td>123</td>\n",
              "      <td>2014</td>\n",
              "    </tr>\n",
              "    <tr>\n",
              "      <th>10</th>\n",
              "      <td>The Hobbit: The Battle of the Five Armies</td>\n",
              "      <td>10.174599</td>\n",
              "      <td>144</td>\n",
              "      <td>2014</td>\n",
              "    </tr>\n",
              "    <tr>\n",
              "      <th>11</th>\n",
              "      <td>Avatar</td>\n",
              "      <td>9.432768</td>\n",
              "      <td>162</td>\n",
              "      <td>2009</td>\n",
              "    </tr>\n",
              "    <tr>\n",
              "      <th>12</th>\n",
              "      <td>Inception</td>\n",
              "      <td>9.363643</td>\n",
              "      <td>148</td>\n",
              "      <td>2010</td>\n",
              "    </tr>\n",
              "    <tr>\n",
              "      <th>13</th>\n",
              "      <td>Furious 7</td>\n",
              "      <td>9.335014</td>\n",
              "      <td>137</td>\n",
              "      <td>2015</td>\n",
              "    </tr>\n",
              "    <tr>\n",
              "      <th>14</th>\n",
              "      <td>The Revenant</td>\n",
              "      <td>9.110700</td>\n",
              "      <td>156</td>\n",
              "      <td>2015</td>\n",
              "    </tr>\n",
              "  </tbody>\n",
              "</table>\n",
              "</div>\n",
              "      <button class=\"colab-df-convert\" onclick=\"convertToInteractive('df-79ee084a-9c23-450e-b366-232d0ee99081')\"\n",
              "              title=\"Convert this dataframe to an interactive table.\"\n",
              "              style=\"display:none;\">\n",
              "        \n",
              "  <svg xmlns=\"http://www.w3.org/2000/svg\" height=\"24px\"viewBox=\"0 0 24 24\"\n",
              "       width=\"24px\">\n",
              "    <path d=\"M0 0h24v24H0V0z\" fill=\"none\"/>\n",
              "    <path d=\"M18.56 5.44l.94 2.06.94-2.06 2.06-.94-2.06-.94-.94-2.06-.94 2.06-2.06.94zm-11 1L8.5 8.5l.94-2.06 2.06-.94-2.06-.94L8.5 2.5l-.94 2.06-2.06.94zm10 10l.94 2.06.94-2.06 2.06-.94-2.06-.94-.94-2.06-.94 2.06-2.06.94z\"/><path d=\"M17.41 7.96l-1.37-1.37c-.4-.4-.92-.59-1.43-.59-.52 0-1.04.2-1.43.59L10.3 9.45l-7.72 7.72c-.78.78-.78 2.05 0 2.83L4 21.41c.39.39.9.59 1.41.59.51 0 1.02-.2 1.41-.59l7.78-7.78 2.81-2.81c.8-.78.8-2.07 0-2.86zM5.41 20L4 18.59l7.72-7.72 1.47 1.35L5.41 20z\"/>\n",
              "  </svg>\n",
              "      </button>\n",
              "      \n",
              "  <style>\n",
              "    .colab-df-container {\n",
              "      display:flex;\n",
              "      flex-wrap:wrap;\n",
              "      gap: 12px;\n",
              "    }\n",
              "\n",
              "    .colab-df-convert {\n",
              "      background-color: #E8F0FE;\n",
              "      border: none;\n",
              "      border-radius: 50%;\n",
              "      cursor: pointer;\n",
              "      display: none;\n",
              "      fill: #1967D2;\n",
              "      height: 32px;\n",
              "      padding: 0 0 0 0;\n",
              "      width: 32px;\n",
              "    }\n",
              "\n",
              "    .colab-df-convert:hover {\n",
              "      background-color: #E2EBFA;\n",
              "      box-shadow: 0px 1px 2px rgba(60, 64, 67, 0.3), 0px 1px 3px 1px rgba(60, 64, 67, 0.15);\n",
              "      fill: #174EA6;\n",
              "    }\n",
              "\n",
              "    [theme=dark] .colab-df-convert {\n",
              "      background-color: #3B4455;\n",
              "      fill: #D2E3FC;\n",
              "    }\n",
              "\n",
              "    [theme=dark] .colab-df-convert:hover {\n",
              "      background-color: #434B5C;\n",
              "      box-shadow: 0px 1px 3px 1px rgba(0, 0, 0, 0.15);\n",
              "      filter: drop-shadow(0px 1px 2px rgba(0, 0, 0, 0.3));\n",
              "      fill: #FFFFFF;\n",
              "    }\n",
              "  </style>\n",
              "\n",
              "      <script>\n",
              "        const buttonEl =\n",
              "          document.querySelector('#df-79ee084a-9c23-450e-b366-232d0ee99081 button.colab-df-convert');\n",
              "        buttonEl.style.display =\n",
              "          google.colab.kernel.accessAllowed ? 'block' : 'none';\n",
              "\n",
              "        async function convertToInteractive(key) {\n",
              "          const element = document.querySelector('#df-79ee084a-9c23-450e-b366-232d0ee99081');\n",
              "          const dataTable =\n",
              "            await google.colab.kernel.invokeFunction('convertToInteractive',\n",
              "                                                     [key], {});\n",
              "          if (!dataTable) return;\n",
              "\n",
              "          const docLinkHtml = 'Like what you see? Visit the ' +\n",
              "            '<a target=\"_blank\" href=https://colab.research.google.com/notebooks/data_table.ipynb>data table notebook</a>'\n",
              "            + ' to learn more about interactive tables.';\n",
              "          element.innerHTML = '';\n",
              "          dataTable['output_type'] = 'display_data';\n",
              "          await google.colab.output.renderOutput(dataTable, element);\n",
              "          const docLink = document.createElement('div');\n",
              "          docLink.innerHTML = docLinkHtml;\n",
              "          element.appendChild(docLink);\n",
              "        }\n",
              "      </script>\n",
              "    </div>\n",
              "  </div>\n",
              "  "
            ]
          },
          "metadata": {},
          "execution_count": 27
        }
      ]
    },
    {
      "cell_type": "code",
      "source": [
        "popular_movies = popular_movies[['original_title', 'popularity']].set_index('original_title')\n",
        "popular_movies.sort_values('popularity').plot.barh(title='Top 15 Movies with the highest popularity from 1960 to 2015')\n",
        "plt.show()"
      ],
      "metadata": {
        "colab": {
          "base_uri": "https://localhost:8080/",
          "height": 607
        },
        "id": "MZ-SFWEzgWib",
        "outputId": "d1ad5129-27ad-4b57-e34b-be2316a4eb14"
      },
      "execution_count": null,
      "outputs": [
        {
          "output_type": "display_data",
          "data": {
            "text/plain": [
              "<Figure size 720x720 with 1 Axes>"
            ],
            "image/png": "[encoded data removed]"
          },
          "metadata": {
            "needs_background": "light"
          }
        }
      ]
    },
    {
      "cell_type": "markdown",
      "source": [
        "**Jurassic World, Mad Max: Fury Road and Interstellar are the most popular movies**"
      ],
      "metadata": {
        "id": "JzTr1IPZjeT4"
      }
    },
    {
      "cell_type": "markdown",
      "source": [
        "# **Which directors have the highest popularity from year to year?**\n"
      ],
      "metadata": {
        "id": "Fj_XfOi11TNY"
      }
    },
    {
      "cell_type": "code",
      "source": [
        "df_tmdb_copy['director']=df_tmdb_copy ['director'].apply(seperator)"
      ],
      "metadata": {
        "id": "1v0qw-vRwOLh"
      },
      "execution_count": null,
      "outputs": []
    },
    {
      "cell_type": "code",
      "source": [
        "df_director = df_tmdb_copy.explode('director')[['popularity', 'director','release_year', 'profit']]\n",
        "df_director_grouped = df_director.groupby(['release_year', 'director']).mean()\n",
        "popular_yearly_director = df_director_grouped.groupby(level='release_year')['popularity'].nlargest(1).to_frame()\n",
        "popular_yearly_director.reset_index(level=2, inplace=True)\n",
        "popular_yearly_director.head()"
      ],
      "metadata": {
        "colab": {
          "base_uri": "https://localhost:8080/",
          "height": 238
        },
        "id": "2LUefcTm1Xpr",
        "outputId": "1cd6a490-5b26-498d-82b3-7286da7685ed"
      },
      "execution_count": null,
      "outputs": [
        {
          "output_type": "execute_result",
          "data": {
            "text/plain": [
              "                                   director  popularity\n",
              "release_year release_year                              \n",
              "1960         1960          Alfred Hitchcock    2.610362\n",
              "1961         1961            Clyde Geronimi    2.631987\n",
              "1962         1962             Terence Young    3.170651\n",
              "1963         1963             Terence Young    2.508235\n",
              "1964         1964              Guy Hamilton    3.153791"
            ],
            "text/html": [
              "\n",
              "  <div id=\"df-b704add5-7650-48f8-bfd6-800af9e699ad\">\n",
              "    <div class=\"colab-df-container\">\n",
              "      <div>\n",
              "<style scoped>\n",
              "    .dataframe tbody tr th:only-of-type {\n",
              "        vertical-align: middle;\n",
              "    }\n",
              "\n",
              "    .dataframe tbody tr th {\n",
              "        vertical-align: top;\n",
              "    }\n",
              "\n",
              "    .dataframe thead th {\n",
              "        text-align: right;\n",
              "    }\n",
              "</style>\n",
              "<table border=\"1\" class=\"dataframe\">\n",
              "  <thead>\n",
              "    <tr style=\"text-align: right;\">\n",
              "      <th></th>\n",
              "      <th></th>\n",
              "      <th>director</th>\n",
              "      <th>popularity</th>\n",
              "    </tr>\n",
              "    <tr>\n",
              "      <th>release_year</th>\n",
              "      <th>release_year</th>\n",
              "      <th></th>\n",
              "      <th></th>\n",
              "    </tr>\n",
              "  </thead>\n",
              "  <tbody>\n",
              "    <tr>\n",
              "      <th>1960</th>\n",
              "      <th>1960</th>\n",
              "      <td>Alfred Hitchcock</td>\n",
              "      <td>2.610362</td>\n",
              "    </tr>\n",
              "    <tr>\n",
              "      <th>1961</th>\n",
              "      <th>1961</th>\n",
              "      <td>Clyde Geronimi</td>\n",
              "      <td>2.631987</td>\n",
              "    </tr>\n",
              "    <tr>\n",
              "      <th>1962</th>\n",
              "      <th>1962</th>\n",
              "      <td>Terence Young</td>\n",
              "      <td>3.170651</td>\n",
              "    </tr>\n",
              "    <tr>\n",
              "      <th>1963</th>\n",
              "      <th>1963</th>\n",
              "      <td>Terence Young</td>\n",
              "      <td>2.508235</td>\n",
              "    </tr>\n",
              "    <tr>\n",
              "      <th>1964</th>\n",
              "      <th>1964</th>\n",
              "      <td>Guy Hamilton</td>\n",
              "      <td>3.153791</td>\n",
              "    </tr>\n",
              "  </tbody>\n",
              "</table>\n",
              "</div>\n",
              "      <button class=\"colab-df-convert\" onclick=\"convertToInteractive('df-b704add5-7650-48f8-bfd6-800af9e699ad')\"\n",
              "              title=\"Convert this dataframe to an interactive table.\"\n",
              "              style=\"display:none;\">\n",
              "        \n",
              "  <svg xmlns=\"http://www.w3.org/2000/svg\" height=\"24px\"viewBox=\"0 0 24 24\"\n",
              "       width=\"24px\">\n",
              "    <path d=\"M0 0h24v24H0V0z\" fill=\"none\"/>\n",
              "    <path d=\"M18.56 5.44l.94 2.06.94-2.06 2.06-.94-2.06-.94-.94-2.06-.94 2.06-2.06.94zm-11 1L8.5 8.5l.94-2.06 2.06-.94-2.06-.94L8.5 2.5l-.94 2.06-2.06.94zm10 10l.94 2.06.94-2.06 2.06-.94-2.06-.94-.94-2.06-.94 2.06-2.06.94z\"/><path d=\"M17.41 7.96l-1.37-1.37c-.4-.4-.92-.59-1.43-.59-.52 0-1.04.2-1.43.59L10.3 9.45l-7.72 7.72c-.78.78-.78 2.05 0 2.83L4 21.41c.39.39.9.59 1.41.59.51 0 1.02-.2 1.41-.59l7.78-7.78 2.81-2.81c.8-.78.8-2.07 0-2.86zM5.41 20L4 18.59l7.72-7.72 1.47 1.35L5.41 20z\"/>\n",
              "  </svg>\n",
              "      </button>\n",
              "      \n",
              "  <style>\n",
              "    .colab-df-container {\n",
              "      display:flex;\n",
              "      flex-wrap:wrap;\n",
              "      gap: 12px;\n",
              "    }\n",
              "\n",
              "    .colab-df-convert {\n",
              "      background-color: #E8F0FE;\n",
              "      border: none;\n",
              "      border-radius: 50%;\n",
              "      cursor: pointer;\n",
              "      display: none;\n",
              "      fill: #1967D2;\n",
              "      height: 32px;\n",
              "      padding: 0 0 0 0;\n",
              "      width: 32px;\n",
              "    }\n",
              "\n",
              "    .colab-df-convert:hover {\n",
              "      background-color: #E2EBFA;\n",
              "      box-shadow: 0px 1px 2px rgba(60, 64, 67, 0.3), 0px 1px 3px 1px rgba(60, 64, 67, 0.15);\n",
              "      fill: #174EA6;\n",
              "    }\n",
              "\n",
              "    [theme=dark] .colab-df-convert {\n",
              "      background-color: #3B4455;\n",
              "      fill: #D2E3FC;\n",
              "    }\n",
              "\n",
              "    [theme=dark] .colab-df-convert:hover {\n",
              "      background-color: #434B5C;\n",
              "      box-shadow: 0px 1px 3px 1px rgba(0, 0, 0, 0.15);\n",
              "      filter: drop-shadow(0px 1px 2px rgba(0, 0, 0, 0.3));\n",
              "      fill: #FFFFFF;\n",
              "    }\n",
              "  </style>\n",
              "\n",
              "      <script>\n",
              "        const buttonEl =\n",
              "          document.querySelector('#df-b704add5-7650-48f8-bfd6-800af9e699ad button.colab-df-convert');\n",
              "        buttonEl.style.display =\n",
              "          google.colab.kernel.accessAllowed ? 'block' : 'none';\n",
              "\n",
              "        async function convertToInteractive(key) {\n",
              "          const element = document.querySelector('#df-b704add5-7650-48f8-bfd6-800af9e699ad');\n",
              "          const dataTable =\n",
              "            await google.colab.kernel.invokeFunction('convertToInteractive',\n",
              "                                                     [key], {});\n",
              "          if (!dataTable) return;\n",
              "\n",
              "          const docLinkHtml = 'Like what you see? Visit the ' +\n",
              "            '<a target=\"_blank\" href=https://colab.research.google.com/notebooks/data_table.ipynb>data table notebook</a>'\n",
              "            + ' to learn more about interactive tables.';\n",
              "          element.innerHTML = '';\n",
              "          dataTable['output_type'] = 'display_data';\n",
              "          await google.colab.output.renderOutput(dataTable, element);\n",
              "          const docLink = document.createElement('div');\n",
              "          docLink.innerHTML = docLinkHtml;\n",
              "          element.appendChild(docLink);\n",
              "        }\n",
              "      </script>\n",
              "    </div>\n",
              "  </div>\n",
              "  "
            ]
          },
          "metadata": {},
          "execution_count": 30
        }
      ]
    },
    {
      "cell_type": "code",
      "source": [
        "popular_yearly_director['director'].value_counts()[:15]"
      ],
      "metadata": {
        "colab": {
          "base_uri": "https://localhost:8080/"
        },
        "id": "826C4qTj2u9I",
        "outputId": "558b0dde-ff15-403b-ed8d-d920b9ad5028"
      },
      "execution_count": null,
      "outputs": [
        {
          "output_type": "execute_result",
          "data": {
            "text/plain": [
              "Peter Jackson           3\n",
              "Terence Young           3\n",
              "Wolfgang Reitherman     3\n",
              "Christopher Nolan       3\n",
              "James Cameron           3\n",
              "Ridley Scott            3\n",
              "John McTiernan          2\n",
              "David Fincher           2\n",
              "Stanley Kubrick         2\n",
              "Francis Ford Coppola    2\n",
              "Quentin Tarantino       2\n",
              "Roland Emmerich         1\n",
              "Peter Richardson        1\n",
              "Peter Weir              1\n",
              "Len Wiseman             1\n",
              "Name: director, dtype: int64"
            ]
          },
          "metadata": {},
          "execution_count": 31
        }
      ]
    },
    {
      "cell_type": "markdown",
      "source": [
        "**Peter Jackson, Terence Young, Wolfgang Reitherman, Christopher Nolan, James Cameron, and Ridley Scott are the directors with the most year to year popularity**"
      ],
      "metadata": {
        "id": "eApVD7LVkAci"
      }
    },
    {
      "cell_type": "markdown",
      "source": [
        "# **Which directors have the highest average popularity?**\n"
      ],
      "metadata": {
        "id": "wmTI6kXV3Lha"
      }
    },
    {
      "cell_type": "code",
      "source": [
        "most_popular_directors = df_director.groupby('director')['popularity'].mean().sort_values(ascending=False)[:15]\n",
        "most_popular_directors"
      ],
      "metadata": {
        "colab": {
          "base_uri": "https://localhost:8080/"
        },
        "id": "49eaqC773Lxb",
        "outputId": "b49bedf3-28b1-4147-91d2-de15e8522a02"
      },
      "execution_count": null,
      "outputs": [
        {
          "output_type": "execute_result",
          "data": {
            "text/plain": [
              "director\n",
              "Colin Trevorrow       16.696886\n",
              "Chad Stahelski        11.422751\n",
              "David Leitch          11.422751\n",
              "Juno John Lee          8.411577\n",
              "Alan Taylor            6.883129\n",
              "Peter Richardson       6.668990\n",
              "Christopher Nolan      6.195521\n",
              "Alex Garland           6.118847\n",
              "Patrick Tatopoulos     5.806897\n",
              "Wes Ball               5.553082\n",
              "Dan Gilroy             5.522641\n",
              "Chris Williams         5.085895\n",
              "Don Hall               5.058319\n",
              "Pierre Coffin          5.041612\n",
              "Bob Peterson           4.908902\n",
              "Name: popularity, dtype: float64"
            ]
          },
          "metadata": {},
          "execution_count": 32
        }
      ]
    },
    {
      "cell_type": "code",
      "source": [
        "most_popular_directors.plot(kind='bar', xlabel='Directors Name', ylabel='Popularity', title='Top 15 directors with highest Average Popularity')\n",
        "plt.show()"
      ],
      "metadata": {
        "colab": {
          "base_uri": "https://localhost:8080/",
          "height": 702
        },
        "id": "O5bBdXsT25J5",
        "outputId": "27f1845c-39ea-4fbe-f2a7-f2c4c157edfb"
      },
      "execution_count": null,
      "outputs": [
        {
          "output_type": "display_data",
          "data": {
            "text/plain": [
              "<Figure size 720x720 with 1 Axes>"
            ],
            "image/png": "[encoded data removed]"
          },
          "metadata": {
            "needs_background": "light"
          }
        }
      ]
    },
    {
      "cell_type": "markdown",
      "source": [
        "**Colin Trevorrow is the director with the highest average popularity**"
      ],
      "metadata": {
        "id": "FnxiAceBk69r"
      }
    },
    {
      "cell_type": "markdown",
      "source": [
        "# **Which directors are the most profitable?**"
      ],
      "metadata": {
        "id": "_7ma7-bTIMdf"
      }
    },
    {
      "cell_type": "code",
      "source": [
        "profitable_directors = df_director.groupby('director').mean()['profit'].sort_values(ascending = False)[:15]\n",
        "profitable_directors "
      ],
      "metadata": {
        "colab": {
          "base_uri": "https://localhost:8080/"
        },
        "id": "NiOEUx-LIMxm",
        "outputId": "7b18b573-de4c-4a9c-b15f-67ae98a4755c"
      },
      "execution_count": null,
      "outputs": [
        {
          "output_type": "execute_result",
          "data": {
            "text/plain": [
              "director\n",
              "Pierre Coffin       8.173356e+08\n",
              "Colin Trevorrow     6.833933e+08\n",
              "David Yates         6.758591e+08\n",
              "Lee Unkrich         6.191573e+08\n",
              "Robert Stromberg    5.784104e+08\n",
              "J.J. Abrams         5.678340e+08\n",
              "Jennifer Lee        5.621095e+08\n",
              "Bob Peterson        5.563427e+08\n",
              "Chris Miller        5.319728e+08\n",
              "Conrad Vernon       5.260900e+08\n",
              "Jennifer Yuh        5.156923e+08\n",
              "James Cameron       5.081849e+08\n",
              "Shane Black         5.081126e+08\n",
              "John Stevenson      5.017446e+08\n",
              "George Lucas        4.926661e+08\n",
              "Name: profit, dtype: float64"
            ]
          },
          "metadata": {},
          "execution_count": 34
        }
      ]
    },
    {
      "cell_type": "markdown",
      "source": [
        "**The most profitable director is Pierre Coffin**"
      ],
      "metadata": {
        "id": "dNIwxD8rl79s"
      }
    },
    {
      "cell_type": "markdown",
      "source": [
        "# **Conclusion**"
      ],
      "metadata": {
        "id": "McSnm0TBK2xu"
      }
    },
    {
      "cell_type": "markdown",
      "source": [
        "From the analysis, I tried to answer 9 different questions from tmdb movie dataset. \n",
        "* Movies with high popularity tend to be profitable.\n",
        "* There is a very strong correlation between profit and revenue. \n",
        "* The movie Avatar directed by  James Cameron is the most profitable in the dataset\n",
        "* However, Pierre Coffin is the most profitable director in the Dataset\n",
        "* Jurassic World is the most popular movie\n",
        "*  The Story of Film: An Odyssey is the movie with the highest vote average\n",
        "*  Robert De Niro and Samuel L. Jackson acted 72 and 71 movies respectively from 1960 to 2015\n",
        "*   Movie genre ADVENTURE has the highest popularity (14 times) from 1960 to 2015\n",
        "* Movie genre DRAMA is the most produce genre(17.74%) from year 1960 to 2015\n",
        "* It is worth noting that the most popular director doesn't translate to the most profitable director as shown in the  analysis. \n",
        "*  Pierre Coffin is the only director in the list most profitable and popular directors.\n",
        "\n"
      ],
      "metadata": {
        "id": "hTl1-8VxLFjl"
      }
    },
    {
      "cell_type": "markdown",
      "source": [
        "**LIMITATION**\n",
        "\n",
        "It is worth noting that correlation doesnot mean correlation\n",
        "\"Very strong correlation between profit and revenue\""
      ],
      "metadata": {
        "id": "oE04lkJY-OcS"
      }
    },
    {
      "cell_type": "markdown",
      "source": [
        "# **REFERENCES**"
      ],
      "metadata": {
        "id": "uecI4Q5I-pBH"
      }
    },
    {
      "cell_type": "markdown",
      "source": [
        "\n",
        "\n",
        "1.   https://pandas.pydata.org/docs/reference/index.html\n",
        "2.   https://numpy.org/doc/stable/reference/array_api.html\n",
        "\n",
        "\n"
      ],
      "metadata": {
        "id": "VtWfejNo-6tG"
      }
    },
    {
      "cell_type": "code",
      "source": [],
      "metadata": {
        "id": "AhHestT2-s6o"
      },
      "execution_count": null,
      "outputs": []
    }
  ]
}